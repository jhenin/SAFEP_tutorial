{
 "cells": [
  {
   "cell_type": "code",
   "execution_count": null,
   "id": "5fae6bd9-193f-4ac1-964c-d0121d3a99ad",
   "metadata": {},
   "outputs": [],
   "source": [
    "import MDAnalysis\n",
    "import numpy.linalg\n",
    "import matplotlib.pyplot as plt\n",
    "import pathlib\n",
    "import numpy as np\n",
    "from glob import glob"
   ]
  },
  {
   "cell_type": "code",
   "execution_count": null,
   "id": "3a6a54fb-9781-4428-bc65-31da0b31dfa7",
   "metadata": {},
   "outputs": [],
   "source": [
    "def getRGYR(PSF, DCD):\n",
    "    u = MDAnalysis.Universe(PSF,DCD)  # always start with a Universe\n",
    "    prot = u.select_atoms('protein and not name H')  # a selection (AtomGroup) \n",
    "    rgyr = [prot.radius_of_gyration() for ts in u.trajectory]\n",
    "    return rgyr"
   ]
  },
  {
   "cell_type": "code",
   "execution_count": null,
   "id": "e05a5447-3cdb-409d-b46e-bc6738733495",
   "metadata": {},
   "outputs": [],
   "source": [
    "dcds = glob(\"./*/*/*dcd\")\n",
    "\n",
    "psfs = {'GP':\"./NRLLLTG_RFEP/NRLLLTG.psf\", 'AQ':\"./AQ_RFEP/NRLLLTG_aq.psf\"}"
   ]
  },
  {
   "cell_type": "code",
   "execution_count": null,
   "id": "343f4441-38fd-47ff-8b87-2313e140edb5",
   "metadata": {},
   "outputs": [],
   "source": [
    "bins = np.linspace(4, 8, 100)\n",
    "\n",
    "for DCD in dcds:\n",
    "    if 'AQ' in DCD:\n",
    "        PSF = psfs['AQ']\n",
    "    else:\n",
    "        PSF = psfs['GP']\n",
    "        \n",
    "    opath = pathlib.Path(DCD).parents[0]\n",
    "    rgyr = getRGYR(PSF, DCD)\n",
    "    \n",
    "    hist, bin_edges = np.histogram(rgyr, bins=bins, density=True)\n",
    "    bin_centers = (bin_edges[:-1]+bin_edges[1:])/2\n",
    "    \n",
    "    fig, ax = plt.subplots()\n",
    "    ax.plot(bin_centers, hist)\n",
    "    ax.set_xlabel(r'Radius of Gyration ($\\AA$)')\n",
    "    ax.set_ylabel('Density')\n",
    "    print(opath)\n",
    "    \n",
    "    plt.savefig('./'+str(opath)+'/rgyr_distro.pdf')\n",
    "    plt.show()\n",
    "    \n",
    "    \n",
    "    fig, ax = plt.subplots()\n",
    "    ax.plot(np.linspace(0,len(rgyr)/100, len(rgyr)), rgyr)\n",
    "    ax.set_xlabel(\"Time (ns)\")\n",
    "    ax.set_ylabel(r\"Radius of Gyration ($\\AA$)\")\n",
    "    plt.savefig('./'+str(opath)+'/rgyr_timeline.pdf')\n",
    "    plt.show()"
   ]
  },
  {
   "cell_type": "code",
   "execution_count": null,
   "id": "9735bdf1-feca-45af-8a2f-d7e1e88b9b90",
   "metadata": {},
   "outputs": [],
   "source": []
  }
 ],
 "metadata": {
  "kernelspec": {
   "display_name": "Python 3 (ipykernel)",
   "language": "python",
   "name": "python3"
  },
  "language_info": {
   "codemirror_mode": {
    "name": "ipython",
    "version": 3
   },
   "file_extension": ".py",
   "mimetype": "text/x-python",
   "name": "python",
   "nbconvert_exporter": "python",
   "pygments_lexer": "ipython3",
   "version": "3.9.12"
  }
 },
 "nbformat": 4,
 "nbformat_minor": 5
}
