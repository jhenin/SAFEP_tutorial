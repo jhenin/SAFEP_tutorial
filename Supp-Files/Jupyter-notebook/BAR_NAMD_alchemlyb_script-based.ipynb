{
 "cells": [
  {
   "cell_type": "code",
   "execution_count": null,
   "id": "053ab104",
   "metadata": {},
   "outputs": [],
   "source": [
    "from glob import glob\n",
    "path='../'\n",
    "filename='AFEP2-02.fepout'\n",
    "fepoutFiles = glob(path+filename)\n",
    "temperature = 300\n",
    "RT = 0.00198720650096 * temperature\n",
    "print(f\"Will process {len(fepoutFiles)} fepout files.\")"
   ]
  },
  {
   "cell_type": "markdown",
   "id": "d04d2e33-c429-4813-9973-357b7453014c",
   "metadata": {},
   "source": [
    "# Import necessary libraries\n",
    "SAFEP_parse.py contains all the functions and library calls necessary to run the notebook\n",
    "# Required libraries:\n",
    "- numpy\n",
    "- pandas\n",
    "- matplotlib\n",
    "- alchemlyb (pip install git+https://github.com/alchemistry/alchemlyb)\n",
    "- natsort (for sorting file names)\n",
    "- glob (for unix-like file paths)\n",
    "\n"
   ]
  },
  {
   "cell_type": "code",
   "execution_count": null,
   "id": "7e4b8458",
   "metadata": {},
   "outputs": [],
   "source": [
    "from SAFEP_parse import *\n",
    "plt.rcParams['figure.dpi'] = 150"
   ]
  },
  {
   "cell_type": "markdown",
   "id": "ef8a1bbe-b639-44d2-b2a1-6600694cd8f0",
   "metadata": {},
   "source": [
    "# Use the Multistate Bennett Acceptance Ratio estimator"
   ]
  },
  {
   "cell_type": "code",
   "execution_count": null,
   "id": "f0829bc0",
   "metadata": {},
   "outputs": [],
   "source": [
    "u_nk = namd.extract_u_nk(fepoutFiles, temperature)\n",
    "bar = BAR()\n",
    "bar.fit(u_nk)"
   ]
  },
  {
   "cell_type": "markdown",
   "id": "cb8d6276-bdb3-4025-9b31-9dead8f62547",
   "metadata": {},
   "source": [
    "# Extract key features from the MBAR fitting"
   ]
  },
  {
   "cell_type": "code",
   "execution_count": null,
   "id": "b4bbac61",
   "metadata": {},
   "outputs": [],
   "source": [
    "l, l_mid, f, df, ddf, errors = get_MBAR(bar)\n",
    "#print(df.cumsum() * RT) #in unit of KT\n",
    "print(\"Overall free energy\",df.cumsum() * RT) #in unit of kcal/mol\n",
    "\n",
    "print(\"Errors\", errors)"
   ]
  },
  {
   "cell_type": "code",
   "execution_count": null,
   "id": "fceac68c-adf3-46d5-aeca-ae89d1b77b2c",
   "metadata": {},
   "outputs": [],
   "source": [
    "#Overall delta G_site\n",
    "print(f'\\u0394G*(site) = {np.round((df.cumsum()*RT)[-1], 3)}\\u00B1{np.round(errors[-1], 3)} kcal/mol')"
   ]
  },
  {
   "cell_type": "markdown",
   "id": "42bacc93-f821-42cb-bff0-ed19245aae0e",
   "metadata": {},
   "source": [
    "# Plot the change in free energy based on MBAR estimates"
   ]
  },
  {
   "cell_type": "code",
   "execution_count": null,
   "id": "4ed2a6eb",
   "metadata": {},
   "outputs": [],
   "source": [
    "# Cumulative change in kT\n",
    "plt.errorbar(l, f, yerr=errors, marker='.')\n",
    "plt.xlabel('lambda')\n",
    "plt.ylabel('DeltaG(lambda) (kT)')\n",
    "plt.show()\n",
    "\n",
    "# Cumulative change in kcal/mol\n",
    "plt.errorbar(l, f * RT, yerr=errors, marker='.')\n",
    "plt.xlabel('lambda')\n",
    "plt.ylabel('DeltaG(lambda)(kcal/mol)')\n",
    "plt.show()\n",
    "\n",
    "# Per-window change in kT\n",
    "plt.errorbar(l_mid, df, yerr=ddf, marker='.')\n",
    "plt.xlabel('lambda')\n",
    "plt.ylabel('Delta G per window (kT)')\n",
    "plt.show()\n"
   ]
  },
  {
   "cell_type": "markdown",
   "id": "d06d9c44-4b0c-4f31-a0b8-568dd3a81a76",
   "metadata": {},
   "source": [
    "# Plot the estimated total change in free energy as a function of simulation time; contiguous subsets starting at t=0 (\"Forward\") and t=end (\"Reverse\")"
   ]
  },
  {
   "cell_type": "code",
   "execution_count": null,
   "id": "383b0e31",
   "metadata": {},
   "outputs": [],
   "source": [
    "convergence_plot(u_nk, l)"
   ]
  },
  {
   "cell_type": "markdown",
   "id": "b940f050-742f-4575-aaf5-04ce5e526179",
   "metadata": {},
   "source": [
    "# Use an exponential estimator to assess residual discrepancies and check for hysteresis"
   ]
  },
  {
   "cell_type": "code",
   "execution_count": null,
   "id": "dab3a717",
   "metadata": {},
   "outputs": [],
   "source": [
    "l, l_mid, dG_f, dG_b = get_EXP(u_nk)"
   ]
  },
  {
   "cell_type": "code",
   "execution_count": null,
   "id": "bf84df2d",
   "metadata": {},
   "outputs": [],
   "source": [
    "plt.vlines(l_mid, np.zeros(len(l_mid)), dG_f + np.array(dG_b), label=\"fwd - bwd\", linewidth=3)\n",
    "\n",
    "plt.legend()\n",
    "plt.title('Fwd-bwd discrepancies by lambda')\n",
    "plt.xlabel('Lambda')\n",
    "plt.ylabel('Diff. in delta-G')"
   ]
  },
  {
   "cell_type": "markdown",
   "id": "e2d9bb13-ad39-45e7-b709-b5ddc2bbd22e",
   "metadata": {},
   "source": [
    "# The above data should follow a roughly normal distribution centered on 0."
   ]
  },
  {
   "cell_type": "code",
   "execution_count": null,
   "id": "2c276bfb",
   "metadata": {},
   "outputs": [],
   "source": [
    "plt.hist(dG_f + np.array(dG_b));\n",
    "plt.title('Distribution of fwd-bwd discrepancies')\n",
    "plt.xlabel('Difference in delta-G')\n",
    "plt.ylabel('Count')"
   ]
  }
 ],
 "metadata": {
  "kernelspec": {
   "display_name": "Python 3",
   "language": "python",
   "name": "python3"
  },
  "language_info": {
   "codemirror_mode": {
    "name": "ipython",
    "version": 3
   },
   "file_extension": ".py",
   "mimetype": "text/x-python",
   "name": "python",
   "nbconvert_exporter": "python",
   "pygments_lexer": "ipython3",
   "version": "3.6.9"
  }
 },
 "nbformat": 4,
 "nbformat_minor": 5
}
