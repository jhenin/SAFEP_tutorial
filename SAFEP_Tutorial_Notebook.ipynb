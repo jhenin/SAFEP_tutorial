{
 "cells": [
  {
   "cell_type": "code",
   "execution_count": null,
   "id": "4c218e66",
   "metadata": {},
   "outputs": [],
   "source": [
    "import numpy as np\n",
    "import pandas as pd\n",
    "import scipy as sp\n",
    "from pathlib import Path\n",
    "import safep\n",
    "import matplotlib as mpl\n",
    "import matplotlib.pyplot as plt\n",
    "from IPython.display import display, Markdown\n",
    "import re\n",
    "\n",
    "from Notebook_Helpers import get_upper_walls, FEPData, TIData, Kd, P_bind\n",
    "\n",
    "import warnings #Suppress future warnings from pandas.\n",
    "warnings.simplefilter(action='ignore', category=FutureWarning)"
   ]
  },
  {
   "cell_type": "markdown",
   "id": "7efeacb7",
   "metadata": {
    "tags": []
   },
   "source": [
    "# What this Notebook Does:\n",
    "\n",
    "Each section of this notebook will calculate a component of the free energy of binding of phenol to lysozyme as described in the companion tutorial. Briefly, during a free energy perturbation simulation, NAMD (or other software) will write the difference in internal energy between the simulated state and an adjacent state (dE =  E_lambda_k+/-1 - E_lambda_k, where lambda_k determines the ensemble being simulated). The functions used by this notebook read, parse, and process those outputs into a standard format that can be quickly analyzed using one of several methods. By default, we use the Bennett Acceptance Ratio (BAR) estimator with automated decorrelation to make the calculations more robust to both outliers and autocorrelation. See Shirts and Chodera (2018) for more details.\n",
    "\n",
    "One section of the notebook uses [thermodynamic integration (TI)](https://en.wikipedia.org/wiki/Thermodynamic_integration) to calculate the free energy cost of imposing the DBC restraint. This calculation is much more straightforward than FEP calculations. We can analytically determine the derivative of the force with respect to lambda over a series of simulations at discrete values of lambda. Averaging and accumulating those derivatives yields the free energy cost.\n",
    "\n",
    "# How to Use this Notebook:\n",
    "\n",
    "## User Parameters:\n",
    "The notebook as-is will read and process the sample outputs provided. \n",
    "To use it for your own data, be sure to update the section labeled \"User Settings\" below. Pay special attention to the *root* and *path* variables.\n",
    "\n",
    "- root should be the path (relative or absolute) to the parent directory that contains (or will containt) all your data.\n",
    "- temperature is the temperature **at which your simulations were run** \n",
    "- decorrelate is a flag for automatic decorrelation of samples (see Shirts and Chodera '08). Should be set to True for general use. \n",
    "- detectEQ (automatic equilibrium detection). Set to True. This is more robust than manually guessing at the time required for equilibration prior to a FEP run.\n",
    "\n",
    "## Layout:\n",
    "The notebook is organized into five sections (separated by horizontal lines):\n",
    "- Process the Bound Data [(step B)](#bound_fep)\n",
    "- Process the DBC TI calculation [(step C)](#DBC_TI)\n",
    "- Process the Unbound Data [(step D)](#unbound_fep)\n",
    "- Calculate the Volumetric Restraint Contribution [(step E.2)](#volume)\n",
    "- Calculate the Binding Free Energy [(step E.3)](#total)\n",
    "\n",
    "## File Structure Data:\n",
    "\n",
    "```\n",
    "Repository/Supp-Files\n",
    "|\n",
    "|----stepB_alchemy_site\n",
    "|    |----[sample_]output\n",
    "|         | *.fepout\n",
    "|\n",
    "|----stepC_restraint_perturbation\n",
    "|    |----[sample_]output\n",
    "|         | *.colvars.traj\n",
    "|\n",
    "|----stepD_alchemy_bulk\n",
    "|    |----[sample_]output\n",
    "|         | *fepout\n",
    "|\n",
    "|\n",
    "```\n",
    "\n",
    "\n",
    "\n",
    "# Other Important Notes and Credits\n",
    "- This notebook is specially written for the SAFEP tutorial. \n",
    "For more up-to-date and general versions see the SAFEP github.\n",
    "\n",
    "- This and other SAFEP notebooks make use of pyMBAR and Alchemlyb. \n",
    "For more information see Shirts and Chodera (2008), [\"Statistically optimal analysis of samples from multiple equilibrium states\"](https://doi.org/10.1063%2F1.2978177)\n",
    "\n"
   ]
  },
  {
   "cell_type": "markdown",
   "id": "2a78afc2",
   "metadata": {},
   "source": [
    "# User Settings:"
   ]
  },
  {
   "cell_type": "code",
   "execution_count": null,
   "id": "c8853bcf",
   "metadata": {},
   "outputs": [],
   "source": [
    "root = '.' # Root path to your project\n",
    "\n",
    "# Used throughout\n",
    "temperature = 300"
   ]
  },
  {
   "cell_type": "code",
   "execution_count": null,
   "id": "4770e559-3f54-429d-8c51-0b370c2f4077",
   "metadata": {},
   "outputs": [],
   "source": [
    "# Radius of the spherical restraint used for the DBC TI calculation\n",
    "COMfname = f'{root}/stepC_restraint_perturbation/sample_outputs/DBC_restraint_RFEP.colvars'\n",
    "COMradius = float(get_upper_walls(COMfname)) \n",
    "\n",
    "# Position of the DBC upper wall\n",
    "DBCfname = f'{root}/stepC_restraint_perturbation/inputs/run.namd'\n",
    "DBCwidth = float(get_upper_walls(DBCfname))  "
   ]
  },
  {
   "cell_type": "markdown",
   "id": "8207866a",
   "metadata": {},
   "source": [
    "## Update these paths to point to your output files:"
   ]
  },
  {
   "cell_type": "code",
   "execution_count": null,
   "id": "e7d16e83",
   "metadata": {},
   "outputs": [],
   "source": [
    "bound_fep_path=Path(f'{root}/stepB_alchemy_site/sample_outputs/')\n",
    "restraint_perturbation_path = Path(f'{root}/stepC_restraint_perturbation/sample_outputs/')\n",
    "bulk_fep_path=Path(f'{root}/stepD_alchemy_bulk/sample_outputs/')"
   ]
  },
  {
   "cell_type": "markdown",
   "id": "c584e58f",
   "metadata": {},
   "source": [
    "## Advanced settings:"
   ]
  },
  {
   "cell_type": "code",
   "execution_count": null,
   "id": "b9ae6d3c",
   "metadata": {},
   "outputs": [],
   "source": [
    "detectEQ = True #Flag for automatic equilibrium detection and decorrelation"
   ]
  },
  {
   "cell_type": "markdown",
   "id": "d6b84058",
   "metadata": {
    "tags": []
   },
   "source": [
    "***\n",
    "<a id='bound_fep'></a>\n",
    "# Process the Bound FEP Data \n",
    "Here we process the FEP data generated by decoupling the ligand from the protein (**Step B**)\n"
   ]
  },
  {
   "cell_type": "code",
   "execution_count": null,
   "id": "04f3d9e2",
   "metadata": {},
   "outputs": [],
   "source": [
    "filepattern='*.fepout' #This can be a regex pattern if you have more than one fepout file\n",
    "#Caution: if you have multiple fepout files, name them alphanumerically\n",
    "\n",
    "site = FEPData(bound_fep_path, filepattern, temperature, detectEQ, \"site\")\n",
    "site.process()\n",
    "Markdown(site.pretty_print_dG())"
   ]
  },
  {
   "cell_type": "code",
   "execution_count": null,
   "id": "378251ed",
   "metadata": {},
   "outputs": [],
   "source": [
    "#Make some general plots\n",
    "width = 8\n",
    "height = 4\n",
    "\n",
    "#Manually set the extent of the y axes\n",
    "cumulative_ylim = (0,16) \n",
    "perwindow_ylim = (0,1.25)\n",
    "fig, axes = site.general_plot(width, height, cumulative_ylim, perwindow_ylim)\n",
    "plt.savefig(f'{bound_fep_path}/bound_generalFigures.pdf')\n",
    "plt.show()\n",
    "\n",
    "fit, axes = site.convergence_plot(width*3/4, height)\n",
    "plt.savefig(f'{bound_fep_path}/bound_convergence.pdf')\n",
    "plt.show()"
   ]
  },
  {
   "cell_type": "markdown",
   "id": "246f7ce7",
   "metadata": {
    "tags": []
   },
   "source": [
    "***\n",
    "<a id='DBC_TI'></a>\n",
    "# Process the DBC TI calculation\n",
    "Compute the free energy cost of restraining the DBC coordinate (**Step C**)\n",
    "\n",
    "Note: The error estimate below is just the standard deviation of the samples. <br>\n",
    "The BAR errors calculated above are standard errors of the mean."
   ]
  },
  {
   "cell_type": "code",
   "execution_count": null,
   "id": "5909a9e7",
   "metadata": {},
   "outputs": [],
   "source": [
    "filepattern = '*.colvars.traj'\n",
    "DBC = TIData(restraint_perturbation_path,\n",
    "             filepattern,\n",
    "             temperature,\n",
    "             \"DBC\",\n",
    "             eqtime=1000,\n",
    "             num_steps=300000,\n",
    "             force_constant=0,\n",
    "             target_force_constant=200,\n",
    "             force_exponent=6,\n",
    "             nLambdas=41,\n",
    "             upper_walls=DBCwidth)\n",
    "\n",
    "DBC.read()\n",
    "DBC.process()\n",
    "Markdown(DBC.pretty_print_dG())"
   ]
  },
  {
   "cell_type": "code",
   "execution_count": null,
   "id": "b6e840ce",
   "metadata": {},
   "outputs": [],
   "source": [
    "''' Plot the results. '''\n",
    "fig, axes = safep.plot_TI(DBC.cumulative, DBC.perWindow, fontsize=20)\n",
    "plt.savefig(f'{restraint_perturbation_path}/TI_general.pdf')\n",
    "plt.show()"
   ]
  },
  {
   "cell_type": "markdown",
   "id": "1874308d",
   "metadata": {
    "tags": []
   },
   "source": [
    "***\n",
    "<a id='unbound_fep'></a>\n",
    "# Process the Bulk FEP Data\n",
    "Ligand decoupling from solvent (**Step D**)"
   ]
  },
  {
   "cell_type": "code",
   "execution_count": null,
   "id": "eab7536a",
   "metadata": {},
   "outputs": [],
   "source": [
    "filepattern='*.fepout' #This can be a regex pattern if you have more than one fepout file\n",
    "#Caution: if you have multiple fepout files, name them alphanumerically\n",
    "\n",
    "bulk = FEPData(bulk_fep_path, filepattern, temperature, detectEQ, \"bulk\")\n",
    "bulk.process()\n",
    "Markdown(bulk.pretty_print_dG())"
   ]
  },
  {
   "cell_type": "code",
   "execution_count": null,
   "id": "500c0668",
   "metadata": {},
   "outputs": [],
   "source": [
    "width = 8\n",
    "height = 4\n",
    "\n",
    "#Manually set the extent of the y axes\n",
    "cumulative_ylim = (0,8) \n",
    "perwindow_ylim = (-0.5,1.)\n",
    "\n",
    "fig, axes = bulk.general_plot(width, height, cumulative_ylim, perwindow_ylim)\n",
    "plt.savefig(f'{bulk_fep_path}/bulk_generalFigures.pdf')\n",
    "plt.show()\n",
    "\n",
    "fit, axes = bulk.convergence_plot(width*3/4, height)\n",
    "plt.savefig(f'{bulk_fep_path}/bulk_convergence.pdf')\n",
    "plt.show()"
   ]
  },
  {
   "cell_type": "markdown",
   "id": "ebc581fd",
   "metadata": {
    "tags": []
   },
   "source": [
    "***\n",
    "<a id='volume'></a>\n",
    "# Calculate the Volumetric Restraint Contribution\n",
    "**Step E.2**\n"
   ]
  },
  {
   "cell_type": "code",
   "execution_count": null,
   "id": "a817d388",
   "metadata": {},
   "outputs": [],
   "source": [
    "molar = 1660 #cubic angstroms per particle in a one molar solution\n",
    "dG_V = np.round(-site.RT*np.log(4/3*np.pi*COMradius**3/molar), 1)\n",
    "error_V = 0\n",
    "\n",
    "change_mkd_vol = f'\\u0394G<sub>V</sub> = {np.round(dG_V, 1)} kcal/mol'\n",
    "Markdown('<font size=5>{}</font><br/>'.format(change_mkd_vol))"
   ]
  },
  {
   "cell_type": "markdown",
   "id": "7a4f504c",
   "metadata": {
    "tags": []
   },
   "source": [
    "***\n",
    "<a id='total'></a>\n",
    "# Calculate the Binding Free Energy\n",
    "**Step E.3 to End**"
   ]
  },
  {
   "cell_type": "code",
   "execution_count": null,
   "id": "f11b5f8b",
   "metadata": {},
   "outputs": [],
   "source": [
    "dG_binding = bulk.dG + dG_V + DBC.dG - site.dG\n",
    "error_binding = np.sqrt(np.sum(np.array([bulk.error, error_V, site.error, DBC.error])**2))"
   ]
  },
  {
   "cell_type": "code",
   "execution_count": null,
   "id": "4c26a178",
   "metadata": {},
   "outputs": [],
   "source": [
    "changeAndError = f'\\u0394G<sub>bind</sub> = {np.round(dG_binding, 1)}\\u00B1{np.round(error_binding, 1)} kcal/mol'\n",
    "Markdown('<font size=5>{}</font><br/>'.format(changeAndError))"
   ]
  },
  {
   "cell_type": "markdown",
   "id": "43bfde28",
   "metadata": {},
   "source": [
    "# Estimate the titration curve"
   ]
  },
  {
   "cell_type": "code",
   "execution_count": null,
   "id": "2b57881c",
   "metadata": {},
   "outputs": [],
   "source": [
    "concentrations = np.logspace(0,5,1000) # A vector of concentrations in micromolar\n",
    "K = Kd(dG_binding, site.RT)\n",
    "\n",
    "mpl.rc('xtick', labelsize=16)\n",
    "mpl.rc('ytick', labelsize=16)\n",
    "fig, ax = plt.subplots(figsize=(10,6.1))\n",
    "ax.plot(concentrations, P_bind(K, concentrations), label='Binding Curve')\n",
    "\n",
    "P_lower = P_bind(Kd(dG_binding-error_binding*1.96, site.RT),concentrations)\n",
    "P_upper = P_bind(Kd(dG_binding+error_binding*1.96, site.RT), concentrations)\n",
    "ax.fill_between(concentrations, P_lower, P_upper, alpha=0.25, label='95% Confidence Interval')\n",
    "plt.xscale('log')\n",
    "ax.set_xlabel('Concentration of Phenol '+r'($\\mathrm{\\mu}$M)', fontsize=20)\n",
    "ax.set_ylabel('Fraction of Sites Occupied', fontsize=20)\n",
    "ax.vlines(K, 0, 1, linestyles='dashed', color='black', label='Dissociation Constant')\n",
    "ax.legend(loc='lower right', fontsize=20*0.75)\n",
    "\n",
    "plt.savefig(f'./titration_curve.pdf')\n",
    "plt.show()"
   ]
  },
  {
   "cell_type": "code",
   "execution_count": null,
   "id": "7cd905a3",
   "metadata": {},
   "outputs": [],
   "source": []
  }
 ],
 "metadata": {
  "kernelspec": {
   "display_name": "Python 3 (ipykernel)",
   "language": "python",
   "name": "python3"
  },
  "language_info": {
   "codemirror_mode": {
    "name": "ipython",
    "version": 3
   },
   "file_extension": ".py",
   "mimetype": "text/x-python",
   "name": "python",
   "nbconvert_exporter": "python",
   "pygments_lexer": "ipython3",
   "version": "3.10.14"
  }
 },
 "nbformat": 4,
 "nbformat_minor": 5
}
