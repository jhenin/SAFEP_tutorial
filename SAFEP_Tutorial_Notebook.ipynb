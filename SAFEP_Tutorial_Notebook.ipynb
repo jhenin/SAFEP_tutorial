{
 "cells": [
  {
   "cell_type": "code",
   "execution_count": null,
   "id": "4c218e66",
   "metadata": {},
   "outputs": [],
   "source": [
    "import numpy as np\n",
    "import pandas as pd\n",
    "import scipy as sp\n",
    "from glob import glob\n",
    "import safep\n",
    "import matplotlib as mpl\n",
    "mpl.rc('xtick', labelsize=20)\n",
    "mpl.rc('ytick', labelsize=20)\n",
    "\n",
    "import matplotlib.pyplot as plt\n",
    "from IPython.display import display, Markdown\n",
    "import re\n",
    "\n",
    "import warnings #Suppress future warnings from pandas.\n",
    "warnings.simplefilter(action='ignore', category=FutureWarning)"
   ]
  },
  {
   "cell_type": "markdown",
   "id": "7efeacb7",
   "metadata": {
    "tags": []
   },
   "source": [
    "# What this Notebook Does:\n",
    "\n",
    "Each section of this notebook will calculate a component of the free energy of binding of phenol to lysozyme as described in the companion tutorial. Briefly, during a free energy perturbation simulation, NAMD (or other software) will write the difference in internal energy between the simulated state and an adjacent state (dE =  E_lambda_k+/-1 - E_lambda_k, where lambda_k determines the ensemble being simulated). The functions used by this notebook read, parse, and process those outputs into a standard format that can be quickly analyzed using one of several methods. By default, we use the Bennett Acceptance Ratio (BAR) estimator with automated decorrelation to make the calculations more robust to both outliers and autocorrelation. See Shirts and Chodera (2018) for more details.\n",
    "\n",
    "One section of the notebook uses [thermodynamic integration (TI)](https://en.wikipedia.org/wiki/Thermodynamic_integration) to calculate the free energy cost of imposing the DBC restraint. This calculation is much more straightforward than FEP calculations. We can analytically determine the derivative of the force with respect to lambda over a series of simulations at discrete values of lambda. Averaging and accumulating those derivatives yields the free energy cost.\n",
    "\n",
    "# How to Use this Notebook:\n",
    "\n",
    "## User Parameters:\n",
    "The notebook as-is will read and process the sample outputs provided. \n",
    "To use it for your own data, be sure to update the section labeled \"User Settings\" below. Pay special attention to the *root* and *path* variables.\n",
    "\n",
    "- root should be the path (relative or absolute) to the parent directory that contains (or will containt) all your data.\n",
    "- temperature is the temperature **at which your simulations were run** \n",
    "- decorrelate is a flag for automatic decorrelation of samples (see Shirts and Chodera '08). Should be set to True for general use. \n",
    "- detectEQ (automatic equilibrium detection). Set to True. This is more robust than manually guessing at the time required for equilibration prior to a FEP run.\n",
    "\n",
    "## Layout:\n",
    "The notebook is organized into five sections (separated by horizontal lines):\n",
    "- Process the Bound Data [(step B)](#bound_fep)\n",
    "- Process the DBC TI calculation [(step C)](#DBC_TI)\n",
    "- Process the Unbound Data [(step D)](#unbound_fep)\n",
    "- Calculate the Volumetric Restraint Contribution [(step E.2)](#volume)\n",
    "- Calculate the Binding Free Energy [(step E.3)](#total)\n",
    "\n",
    "## File Structure Data:\n",
    "\n",
    "```\n",
    "Repository/Supp-Files\n",
    "|\n",
    "|----stepB_alchemy_site\n",
    "|    |----[sample_]output\n",
    "|         | *.fepout\n",
    "|\n",
    "|----stepC_restraint_perturbation\n",
    "|    |----[sample_]output\n",
    "|         | *.colvars.traj\n",
    "|\n",
    "|----stepD_alchemy_bulk\n",
    "|    |----[sample_]output\n",
    "|         | *fepout\n",
    "|\n",
    "|\n",
    "```\n",
    "\n",
    "\n",
    "\n",
    "# Other Important Notes and Credits\n",
    "- This notebook is specially written for the SAFEP tutorial. \n",
    "For more up-to-date and general versions see the SAFEP github.\n",
    "\n",
    "- This and other SAFEP notebooks make use of pyMBAR and Alchemlyb. \n",
    "For more information see Shirts and Chodera (2008), [\"Statistically optimal analysis of samples from multiple equilibrium states\"](https://doi.org/10.1063%2F1.2978177)\n",
    "\n"
   ]
  },
  {
   "cell_type": "markdown",
   "id": "2a78afc2",
   "metadata": {},
   "source": [
    "# User Settings:"
   ]
  },
  {
   "cell_type": "code",
   "execution_count": null,
   "id": "c8853bcf",
   "metadata": {},
   "outputs": [],
   "source": [
    "root = '.' # Root path to fepout files\n",
    "\n",
    "# Used throughout\n",
    "temperature = 300\n",
    "R = sp.constants.R/(1000*sp.constants.calorie) # gas constant in kcal/(mol K)\n",
    "RT = R * temperature # RT in kcal/mol"
   ]
  },
  {
   "cell_type": "markdown",
   "id": "adc2d4b2-67e0-4d6d-a27c-5d87834ea14e",
   "metadata": {},
   "source": [
    "## Colvar Settings"
   ]
  },
  {
   "cell_type": "code",
   "execution_count": null,
   "id": "4770e559-3f54-429d-8c51-0b370c2f4077",
   "metadata": {},
   "outputs": [],
   "source": [
    "def get_num_regex(regex, fname, grp=2):\n",
    "    with open(fname) as fin:\n",
    "        fstring = fin.read()\n",
    "        return re.search(regex, fstring).group(grp)\n",
    "    \n",
    "# Used in restraint perturbation calculations\n",
    "colvarregex = '(upperWalls[\\ \\t]+)(\\d+.\\d+)'\n",
    "\n",
    "# Radius of the spherical restraint used for the DBC TI calculation\n",
    "COMfname = f'{root}/stepC_restraint_perturbation/sample_outputs/DBC_restraint_RFEP.colvars'\n",
    "COMradius = float(get_num_regex(colvarregex, COMfname)) \n",
    "\n",
    "# Position of the DBC upper wall\n",
    "DBCfname = f'{root}/stepC_restraint_perturbation/inputs/run.namd'\n",
    "DBCwidth = float(get_num_regex(colvarregex, DBCfname))  "
   ]
  },
  {
   "cell_type": "markdown",
   "id": "8207866a",
   "metadata": {},
   "source": [
    "## Update these paths to point to your output files:"
   ]
  },
  {
   "cell_type": "code",
   "execution_count": null,
   "id": "e7d16e83",
   "metadata": {},
   "outputs": [],
   "source": [
    "bound_fep_path=f'{root}/stepB_alchemy_site/sample_outputs/' \n",
    "restraint_perturbation_path = f'{root}/stepC_restraint_perturbation/sample_outputs/'\n",
    "bulk_fep_path=f'{root}/stepD_alchemy_bulk/sample_outputs/'"
   ]
  },
  {
   "cell_type": "markdown",
   "id": "c584e58f",
   "metadata": {},
   "source": [
    "## Advanced settings:"
   ]
  },
  {
   "cell_type": "code",
   "execution_count": null,
   "id": "b9ae6d3c",
   "metadata": {},
   "outputs": [],
   "source": [
    "detectEQ = True #Flag for automatic equilibrium detection and decorrelation"
   ]
  },
  {
   "cell_type": "markdown",
   "id": "d6b84058",
   "metadata": {
    "tags": []
   },
   "source": [
    "***\n",
    "<a id='bound_fep'></a>\n",
    "# Process the Bound FEP Data \n",
    "Here we process the FEP data generated by decoupling the ligand from the protein (**Step B**)\n"
   ]
  },
  {
   "cell_type": "code",
   "execution_count": null,
   "id": "04f3d9e2",
   "metadata": {},
   "outputs": [],
   "source": [
    "filename='*.fepout' #This can be a regex pattern if you have more than one fepout file\n",
    "#Caution: if you have multiple fepout files, name them alphanumerically\n",
    "\n",
    "fepoutFiles = glob(bound_fep_path+filename) #Resolve any naming regular expressions\n",
    "u_nk = safep.read_and_process(fepoutFiles, temperature, decorrelate=None, detectEQ=detectEQ) #u_nk stores the fep data\n",
    "perWindow, cumulative = safep.do_estimation(u_nk) #Run the BAR estimator on the fep data\n",
    "forward, forward_error, backward, backward_error = safep.do_convergence(u_nk) #Used later in the convergence plot\n",
    "\n",
    "dG_site = np.round(cumulative.BAR.f.iloc[-1]*RT, 1)\n",
    "error_site = np.round(cumulative.BAR.errors.iloc[-1]*RT, 1)\n",
    "#\\u0394 == Delta\n",
    "change_mkd = f'\\u0394G<sub>site</sub> = {dG_site} kcal/mol'\n",
    "error_mkd = f'PyMBAR estimated error: {error_site} kcal/mol'\n",
    "Markdown('<font size=5>{}</font><br/><font size=5>{}</font><br/>'.format(change_mkd, error_mkd))"
   ]
  },
  {
   "cell_type": "code",
   "execution_count": null,
   "id": "378251ed",
   "metadata": {},
   "outputs": [],
   "source": [
    "#Make some general plots\n",
    "width = 8\n",
    "height = 4\n",
    "fig, axes = safep.plot_general(\n",
    "    cumulative, \n",
    "    (0,16), \n",
    "    perWindow, \n",
    "    (0,1.25), \n",
    "    RT, \n",
    "    width=width, \n",
    "    height=height, \n",
    "    PDFtype='KDE', \n",
    "    fontsize=20)\n",
    "plt.savefig(f'{bound_fep_path}/bound_generalFigures.pdf')\n",
    "plt.show()\n",
    "\n",
    "fig, convAx = plt.subplots(1,1)\n",
    "convAx = safep.convergence_plot(convAx, forward*RT, forward_error*RT, backward*RT, backward_error*RT, fontsize=20)\n",
    "\n",
    "fig.set_figwidth(width*3/4)\n",
    "fig.set_figheight(height)\n",
    "\n",
    "plt.savefig(f'{bound_fep_path}/bound_convergence.pdf')\n",
    "plt.show()"
   ]
  },
  {
   "cell_type": "markdown",
   "id": "246f7ce7",
   "metadata": {
    "tags": []
   },
   "source": [
    "***\n",
    "<a id='DBC_TI'></a>\n",
    "# Process the DBC TI calculation\n",
    "Compute the free energy cost of restraining the DBC coordinate (**Step C**)\n",
    "\n",
    "Note: The error estimate below is just the standard deviation of the samples. <br>\n",
    "The BAR errors calculated above are standard errors of the mean."
   ]
  },
  {
   "cell_type": "code",
   "execution_count": null,
   "id": "c0ccafa4",
   "metadata": {},
   "outputs": [],
   "source": [
    "# Setup and processing of colvars data\n",
    "colvarsPath = glob(restraint_perturbation_path+'*.colvars.traj')[0]\n",
    "with open(colvarsPath) as f:\n",
    "    first_line = f.readline()\n",
    "columns = re.split(' +', first_line)[1:-1]\n",
    "dataTI = pd.read_csv(colvarsPath, delim_whitespace=True, names=columns, comment='#', index_col=0)\n",
    "dataTI = dataTI[dataTI.index>=1000][1:]\n",
    "dataTI.index = dataTI.index-1000\n",
    "\n",
    "nLambdas = 41\n",
    "Lsched = np.linspace(1,0,nLambdas)\n",
    "\n",
    "Dist = safep.make_harmonicWall(FC=200, upperWalls=COMradius, name='Dist_rest')\n",
    "DBC = safep.make_harmonicWall(FC=0, targetFC=200, targetFE=6, upperWalls=DBCwidth, targetEQ=500, numSteps=300000, name='DBC_rest', schedule=Lsched)\n",
    "Ls = (dataTI.index.values-1)//DBC['numSteps']\n",
    "Ls[0] = 0\n",
    "Ls[Ls==41] = 40 # This is a small hack in case there are extra samples for the last windowj\n",
    "\n",
    "dataLs = np.round([DBC['schedule'][i] for i in Ls], 3)\n",
    "dataTI.loc[:,'L'] = dataLs\n",
    "dataTI = dataTI.iloc[1:]\n",
    "\n",
    "TIperWindow, TIcumulative = safep.process_TI(dataTI, DBC, Lsched)"
   ]
  },
  {
   "cell_type": "code",
   "execution_count": null,
   "id": "fc261d8e",
   "metadata": {},
   "outputs": [],
   "source": [
    "dG_DBC = np.round(TIcumulative['dG'][1], 1)\n",
    "error_DBC = np.round(TIcumulative['error'][1], 1)\n",
    "change_mkd = f'\\u0394G<sub>DBC</sub> = {dG_DBC} kcal/mol'\n",
    "error_mkd = f'Standard Deviation: {error_DBC} kcal/mol'\n",
    "Markdown('<font size=5>{}</font><br/><font size=5>{}</font><br/>'.format(change_mkd, error_mkd))"
   ]
  },
  {
   "cell_type": "code",
   "execution_count": null,
   "id": "b6e840ce",
   "metadata": {},
   "outputs": [],
   "source": [
    "''' Plot the results. '''\n",
    "fig, axes = safep.plot_TI(TIcumulative, TIperWindow, fontsize=20)\n",
    "plt.savefig(f'{restraint_perturbation_path}/TI_general.pdf')\n",
    "plt.show()"
   ]
  },
  {
   "cell_type": "markdown",
   "id": "1874308d",
   "metadata": {
    "tags": []
   },
   "source": [
    "***\n",
    "<a id='unbound_fep'></a>\n",
    "# Process the Bulk FEP Data\n",
    "Ligand decoupling from solvent (**Step D**)"
   ]
  },
  {
   "cell_type": "code",
   "execution_count": null,
   "id": "cac3c31c",
   "metadata": {},
   "outputs": [],
   "source": [
    "filename='*.fepout' #This can be a regex pattern if you have more than one fepout file\n",
    "fepoutFiles = glob(bulk_fep_path+filename) #Resolve any naming regular expressions\n",
    "u_nk = safep.read_and_process(fepoutFiles, temperature, True, detectEQ) #u_nk stores the fep data\n",
    "perWindow, cumulative = safep.do_estimation(u_nk) #Run the BAR estimator on the fep data\n",
    "forward, forward_error, backward, backward_error = safep.do_convergence(u_nk) #Used later in the convergence plot\n",
    "\n",
    "dG_bulk = np.round(cumulative.BAR.f.iloc[-1]*RT, 1)\n",
    "error_bulk = np.round(cumulative.BAR.errors.iloc[-1]*RT, 1)\n",
    "change_mkd = f'\\u0394G<sub>bulk</sub> = {dG_bulk} kcal/mol'\n",
    "error_mkd = f'PyMBAR estimated error: {error_bulk} kcal/mol'\n",
    "Markdown('<font size=5>{}</font><br/><font size=5>{}</font><br/>'.format(change_mkd, error_mkd))"
   ]
  },
  {
   "cell_type": "code",
   "execution_count": null,
   "id": "77d27441",
   "metadata": {},
   "outputs": [],
   "source": [
    "width = 8\n",
    "height = 4\n",
    "\n",
    "fig, axes = safep.plot_general(cumulative, (0,8), perWindow, (-0.5,1), RT, width=width, height=height, PDFtype='KDE', fontsize=20)\n",
    "plt.savefig(f'{bulk_fep_path}bulk_generalFigures.pdf')\n",
    "plt.show()\n",
    "\n",
    "fig, convAx = plt.subplots(1,1)\n",
    "convAx = safep.convergence_plot(convAx, forward*RT, forward_error*RT, backward*RT, backward_error*RT, fontsize=20)\n",
    "convAx.set(xlabel='Fraction of Simulation Time', ylabel=r'Total $\\rm\\Delta G_{\\lambda}$ (kcal/mol)')\n",
    "fig.set_figwidth(width*3/4)\n",
    "fig.set_figheight(height)\n",
    "convAx.legend()\n",
    "plt.savefig(f'{bulk_fep_path}bulk_convergence.pdf')\n",
    "plt.show()"
   ]
  },
  {
   "cell_type": "markdown",
   "id": "ebc581fd",
   "metadata": {
    "tags": []
   },
   "source": [
    "***\n",
    "<a id='volume'></a>\n",
    "# Calculate the Volumetric Restraint Contribution\n",
    "**Step E.2**\n"
   ]
  },
  {
   "cell_type": "code",
   "execution_count": null,
   "id": "a817d388",
   "metadata": {},
   "outputs": [],
   "source": [
    "molar = 1660 #cubic angstroms per particle in a one molar solution\n",
    "dG_V = np.round(-RT*np.log(4/3*sp.pi*COMradius**3/molar), 1)\n",
    "error_V = 0"
   ]
  },
  {
   "cell_type": "code",
   "execution_count": null,
   "id": "0824694c",
   "metadata": {},
   "outputs": [],
   "source": [
    "change_mkd = f'\\u0394G<sub>V</sub> = {np.round(dG_V, 1)} kcal/mol'\n",
    "Markdown('<font size=5>{}</font><br/>'.format(change_mkd))"
   ]
  },
  {
   "cell_type": "markdown",
   "id": "7a4f504c",
   "metadata": {
    "tags": []
   },
   "source": [
    "***\n",
    "<a id='total'></a>\n",
    "# Calculate the Binding Free Energy\n",
    "**Step E.3 to End**"
   ]
  },
  {
   "cell_type": "code",
   "execution_count": null,
   "id": "f11b5f8b",
   "metadata": {},
   "outputs": [],
   "source": [
    "dG_binding = dG_bulk + dG_V + dG_DBC - dG_site\n",
    "error_binding = np.sqrt(np.sum(np.array([error_bulk, error_V, error_site, error_DBC])**2))"
   ]
  },
  {
   "cell_type": "code",
   "execution_count": null,
   "id": "4c26a178",
   "metadata": {},
   "outputs": [],
   "source": [
    "changeAndError = f'\\u0394G<sub>bind</sub> = {np.round(dG_binding, 1)}\\u00B1{np.round(error_binding, 1)} kcal/mol'\n",
    "Markdown('<font size=5>{}</font><br/>'.format(changeAndError))"
   ]
  },
  {
   "cell_type": "markdown",
   "id": "43bfde28",
   "metadata": {},
   "source": [
    "# Estimate the titration curve"
   ]
  },
  {
   "cell_type": "code",
   "execution_count": null,
   "id": "5946cce2",
   "metadata": {},
   "outputs": [],
   "source": [
    "def P_bind(K, L):\n",
    "    return L/(K+L)\n",
    "\n",
    "def Kd(dG, RT):\n",
    "    return np.exp(dG/RT)*1000000"
   ]
  },
  {
   "cell_type": "code",
   "execution_count": null,
   "id": "2b57881c",
   "metadata": {},
   "outputs": [],
   "source": [
    "concentrations = np.logspace(0,5,1000) # A vector of concentrations in micromolar\n",
    "K = Kd(dG_binding, RT)\n",
    "\n",
    "fig, ax = plt.subplots(figsize=(12,6))\n",
    "ax.plot(concentrations, P_bind(K, concentrations), label='Binding Curve')\n",
    "ax.fill_between(concentrations, P_bind(Kd(dG_binding-error_binding*1.96, RT), concentrations), P_bind(Kd(dG_binding+error_binding*1.96, RT), concentrations), alpha=0.25, label='95% Confidence Interval')\n",
    "plt.xscale('log')\n",
    "ax.set_xlabel('Concentration of Phenol '+r'($\\mathrm{\\mu}$M)', fontsize=20)\n",
    "ax.set_ylabel('Fraction of Sites Occupied', fontsize=20)\n",
    "ax.vlines(K, 0, 1, linestyles='dashed', color='black', label='Dissociation Constant')\n",
    "ax.legend(loc='lower right', fontsize=20*0.75)\n",
    "\n",
    "plt.savefig(f'./titration_curve.pdf')\n",
    "plt.show()"
   ]
  },
  {
   "cell_type": "code",
   "execution_count": null,
   "id": "9830ce57-33fb-48fa-af56-1f228fdb2c6a",
   "metadata": {},
   "outputs": [],
   "source": []
  },
  {
   "cell_type": "code",
   "execution_count": null,
   "id": "4fb8f86f-4f20-4511-98ca-bef81bbf97fe",
   "metadata": {},
   "outputs": [],
   "source": []
  }
 ],
 "metadata": {
  "kernelspec": {
   "display_name": "Python 3 (ipykernel)",
   "language": "python",
   "name": "python3"
  },
  "language_info": {
   "codemirror_mode": {
    "name": "ipython",
    "version": 3
   },
   "file_extension": ".py",
   "mimetype": "text/x-python",
   "name": "python",
   "nbconvert_exporter": "python",
   "pygments_lexer": "ipython3",
   "version": "3.9.12"
  }
 },
 "nbformat": 4,
 "nbformat_minor": 5
}
