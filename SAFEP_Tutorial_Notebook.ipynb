{
 "cells": [
  {
   "cell_type": "code",
   "execution_count": 1,
   "id": "4c218e66",
   "metadata": {},
   "outputs": [
    {
     "name": "stdout",
     "output_type": "stream",
     "text": [
      "Intel MKL WARNING: Support of Intel(R) Streaming SIMD Extensions 4.2 (Intel(R) SSE4.2) enabled only processors has been deprecated. Intel oneAPI Math Kernel Library 2025.0 will require Intel(R) Advanced Vector Extensions (Intel(R) AVX) instructions.\n",
      "Intel MKL WARNING: Support of Intel(R) Streaming SIMD Extensions 4.2 (Intel(R) SSE4.2) enabled only processors has been deprecated. Intel oneAPI Math Kernel Library 2025.0 will require Intel(R) Advanced Vector Extensions (Intel(R) AVX) instructions.\n"
     ]
    },
    {
     "name": "stderr",
     "output_type": "stream",
     "text": [
      "Warning on use of the timeseries module: If the inherent timescales of the system are long compared to those being analyzed, this statistical inefficiency may be an underestimate.  The estimate presumes the use of many statistically independent samples.  Tests should be performed to assess whether this condition is satisfied.   Be cautious in the interpretation of the data.\n",
      "WARNING:pymbar.mbar_solvers:\n",
      "****** PyMBAR will use 64-bit JAX! *******\n",
      "* JAX is currently set to 32-bit bitsize *\n",
      "* which is its default.                  *\n",
      "*                                        *\n",
      "* PyMBAR requires 64-bit mode and WILL   *\n",
      "* enable JAX's 64-bit mode when called.  *\n",
      "*                                        *\n",
      "* This MAY cause problems with other     *\n",
      "* Uses of JAX in the same code.          *\n",
      "******************************************\n",
      "\n"
     ]
    }
   ],
   "source": [
    "import numpy as np\n",
    "import pandas as pd\n",
    "import scipy as sp\n",
    "from pathlib import Path\n",
    "import safep\n",
    "import matplotlib as mpl\n",
    "import matplotlib.pyplot as plt\n",
    "from IPython.display import display, Markdown\n",
    "import re\n",
    "\n",
    "from Notebook_Helpers import get_upper_walls, FEPData\n",
    "\n",
    "import warnings #Suppress future warnings from pandas.\n",
    "warnings.simplefilter(action='ignore', category=FutureWarning)"
   ]
  },
  {
   "cell_type": "markdown",
   "id": "7efeacb7",
   "metadata": {
    "tags": []
   },
   "source": [
    "# What this Notebook Does:\n",
    "\n",
    "Each section of this notebook will calculate a component of the free energy of binding of phenol to lysozyme as described in the companion tutorial. Briefly, during a free energy perturbation simulation, NAMD (or other software) will write the difference in internal energy between the simulated state and an adjacent state (dE =  E_lambda_k+/-1 - E_lambda_k, where lambda_k determines the ensemble being simulated). The functions used by this notebook read, parse, and process those outputs into a standard format that can be quickly analyzed using one of several methods. By default, we use the Bennett Acceptance Ratio (BAR) estimator with automated decorrelation to make the calculations more robust to both outliers and autocorrelation. See Shirts and Chodera (2018) for more details.\n",
    "\n",
    "One section of the notebook uses [thermodynamic integration (TI)](https://en.wikipedia.org/wiki/Thermodynamic_integration) to calculate the free energy cost of imposing the DBC restraint. This calculation is much more straightforward than FEP calculations. We can analytically determine the derivative of the force with respect to lambda over a series of simulations at discrete values of lambda. Averaging and accumulating those derivatives yields the free energy cost.\n",
    "\n",
    "# How to Use this Notebook:\n",
    "\n",
    "## User Parameters:\n",
    "The notebook as-is will read and process the sample outputs provided. \n",
    "To use it for your own data, be sure to update the section labeled \"User Settings\" below. Pay special attention to the *root* and *path* variables.\n",
    "\n",
    "- root should be the path (relative or absolute) to the parent directory that contains (or will containt) all your data.\n",
    "- temperature is the temperature **at which your simulations were run** \n",
    "- decorrelate is a flag for automatic decorrelation of samples (see Shirts and Chodera '08). Should be set to True for general use. \n",
    "- detectEQ (automatic equilibrium detection). Set to True. This is more robust than manually guessing at the time required for equilibration prior to a FEP run.\n",
    "\n",
    "## Layout:\n",
    "The notebook is organized into five sections (separated by horizontal lines):\n",
    "- Process the Bound Data [(step B)](#bound_fep)\n",
    "- Process the DBC TI calculation [(step C)](#DBC_TI)\n",
    "- Process the Unbound Data [(step D)](#unbound_fep)\n",
    "- Calculate the Volumetric Restraint Contribution [(step E.2)](#volume)\n",
    "- Calculate the Binding Free Energy [(step E.3)](#total)\n",
    "\n",
    "## File Structure Data:\n",
    "\n",
    "```\n",
    "Repository/Supp-Files\n",
    "|\n",
    "|----stepB_alchemy_site\n",
    "|    |----[sample_]output\n",
    "|         | *.fepout\n",
    "|\n",
    "|----stepC_restraint_perturbation\n",
    "|    |----[sample_]output\n",
    "|         | *.colvars.traj\n",
    "|\n",
    "|----stepD_alchemy_bulk\n",
    "|    |----[sample_]output\n",
    "|         | *fepout\n",
    "|\n",
    "|\n",
    "```\n",
    "\n",
    "\n",
    "\n",
    "# Other Important Notes and Credits\n",
    "- This notebook is specially written for the SAFEP tutorial. \n",
    "For more up-to-date and general versions see the SAFEP github.\n",
    "\n",
    "- This and other SAFEP notebooks make use of pyMBAR and Alchemlyb. \n",
    "For more information see Shirts and Chodera (2008), [\"Statistically optimal analysis of samples from multiple equilibrium states\"](https://doi.org/10.1063%2F1.2978177)\n",
    "\n"
   ]
  },
  {
   "cell_type": "markdown",
   "id": "2a78afc2",
   "metadata": {},
   "source": [
    "# User Settings:"
   ]
  },
  {
   "cell_type": "code",
   "execution_count": 2,
   "id": "c8853bcf",
   "metadata": {},
   "outputs": [],
   "source": [
    "root = '.' # Root path to your project\n",
    "\n",
    "# Used throughout\n",
    "temperature = 300"
   ]
  },
  {
   "cell_type": "code",
   "execution_count": 3,
   "id": "4770e559-3f54-429d-8c51-0b370c2f4077",
   "metadata": {},
   "outputs": [],
   "source": [
    "# Radius of the spherical restraint used for the DBC TI calculation\n",
    "COMfname = f'{root}/stepC_restraint_perturbation/sample_outputs/DBC_restraint_RFEP.colvars'\n",
    "COMradius = float(get_upper_walls(COMfname)) \n",
    "\n",
    "# Position of the DBC upper wall\n",
    "DBCfname = f'{root}/stepC_restraint_perturbation/inputs/run.namd'\n",
    "DBCwidth = float(get_upper_walls(DBCfname))  "
   ]
  },
  {
   "cell_type": "markdown",
   "id": "8207866a",
   "metadata": {},
   "source": [
    "## Update these paths to point to your output files:"
   ]
  },
  {
   "cell_type": "code",
   "execution_count": 4,
   "id": "e7d16e83",
   "metadata": {},
   "outputs": [],
   "source": [
    "bound_fep_path=Path(f'{root}/stepB_alchemy_site/sample_outputs/')\n",
    "restraint_perturbation_path = f'{root}/stepC_restraint_perturbation/sample_outputs/'\n",
    "bulk_fep_path=f'{root}/stepD_alchemy_bulk/sample_outputs/'"
   ]
  },
  {
   "cell_type": "markdown",
   "id": "adc2d4b2-67e0-4d6d-a27c-5d87834ea14e",
   "metadata": {},
   "source": [
    "## Colvar Settings"
   ]
  },
  {
   "cell_type": "markdown",
   "id": "c584e58f",
   "metadata": {},
   "source": [
    "## Advanced settings:"
   ]
  },
  {
   "cell_type": "code",
   "execution_count": 5,
   "id": "b9ae6d3c",
   "metadata": {},
   "outputs": [],
   "source": [
    "detectEQ = True #Flag for automatic equilibrium detection and decorrelation"
   ]
  },
  {
   "cell_type": "markdown",
   "id": "d6b84058",
   "metadata": {
    "tags": []
   },
   "source": [
    "***\n",
    "<a id='bound_fep'></a>\n",
    "# Process the Bound FEP Data \n",
    "Here we process the FEP data generated by decoupling the ligand from the protein (**Step B**)\n"
   ]
  },
  {
   "cell_type": "code",
   "execution_count": 6,
   "id": "04f3d9e2",
   "metadata": {},
   "outputs": [
    {
     "name": "stderr",
     "output_type": "stream",
     "text": [
      "\u001b[32m2024-04-14 19:45:47.017\u001b[0m | \u001b[34m\u001b[1mDEBUG   \u001b[0m | \u001b[36malchemlyb.preprocessing.subsampling\u001b[0m:\u001b[36mequilibrium_detection\u001b[0m:\u001b[36m608\u001b[0m - \u001b[34m\u001b[1mRunning equilibration detection.\u001b[0m\n"
     ]
    },
    {
     "name": "stdout",
     "output_type": "stream",
     "text": [
      "Detecting Equilibrium (includes decorrelating)\n"
     ]
    },
    {
     "name": "stderr",
     "output_type": "stream",
     "text": [
      "\u001b[32m2024-04-14 19:45:50.463\u001b[0m | \u001b[34m\u001b[1mDEBUG   \u001b[0m | \u001b[36malchemlyb.preprocessing.subsampling\u001b[0m:\u001b[36mequilibrium_detection\u001b[0m:\u001b[36m610\u001b[0m - \u001b[34m\u001b[1mStart index: 991.\u001b[0m\n",
      "\u001b[32m2024-04-14 19:45:50.464\u001b[0m | \u001b[34m\u001b[1mDEBUG   \u001b[0m | \u001b[36malchemlyb.preprocessing.subsampling\u001b[0m:\u001b[36mequilibrium_detection\u001b[0m:\u001b[36m611\u001b[0m - \u001b[34m\u001b[1mStatistical inefficiency: 6.06.\u001b[0m\n",
      "\u001b[32m2024-04-14 19:45:50.476\u001b[0m | \u001b[34m\u001b[1mDEBUG   \u001b[0m | \u001b[36malchemlyb.preprocessing.subsampling\u001b[0m:\u001b[36mequilibrium_detection\u001b[0m:\u001b[36m617\u001b[0m - \u001b[34m\u001b[1mNumber of uncorrelated samples: 1488.\u001b[0m\n",
      "\u001b[32m2024-04-14 19:45:50.485\u001b[0m | \u001b[34m\u001b[1mDEBUG   \u001b[0m | \u001b[36malchemlyb.preprocessing.subsampling\u001b[0m:\u001b[36mequilibrium_detection\u001b[0m:\u001b[36m608\u001b[0m - \u001b[34m\u001b[1mRunning equilibration detection.\u001b[0m\n",
      "\u001b[32m2024-04-14 19:45:50.683\u001b[0m | \u001b[34m\u001b[1mDEBUG   \u001b[0m | \u001b[36malchemlyb.preprocessing.subsampling\u001b[0m:\u001b[36mequilibrium_detection\u001b[0m:\u001b[36m610\u001b[0m - \u001b[34m\u001b[1mStart index: 491.\u001b[0m\n",
      "\u001b[32m2024-04-14 19:45:50.684\u001b[0m | \u001b[34m\u001b[1mDEBUG   \u001b[0m | \u001b[36malchemlyb.preprocessing.subsampling\u001b[0m:\u001b[36mequilibrium_detection\u001b[0m:\u001b[36m611\u001b[0m - \u001b[34m\u001b[1mStatistical inefficiency: 1.35.\u001b[0m\n",
      "\u001b[32m2024-04-14 19:45:50.696\u001b[0m | \u001b[34m\u001b[1mDEBUG   \u001b[0m | \u001b[36malchemlyb.preprocessing.subsampling\u001b[0m:\u001b[36mequilibrium_detection\u001b[0m:\u001b[36m617\u001b[0m - \u001b[34m\u001b[1mNumber of uncorrelated samples: 1484.\u001b[0m\n",
      "\u001b[32m2024-04-14 19:45:50.704\u001b[0m | \u001b[34m\u001b[1mDEBUG   \u001b[0m | \u001b[36malchemlyb.preprocessing.subsampling\u001b[0m:\u001b[36mequilibrium_detection\u001b[0m:\u001b[36m608\u001b[0m - \u001b[34m\u001b[1mRunning equilibration detection.\u001b[0m\n",
      "\u001b[32m2024-04-14 19:45:50.932\u001b[0m | \u001b[34m\u001b[1mDEBUG   \u001b[0m | \u001b[36malchemlyb.preprocessing.subsampling\u001b[0m:\u001b[36mequilibrium_detection\u001b[0m:\u001b[36m610\u001b[0m - \u001b[34m\u001b[1mStart index: 561.\u001b[0m\n",
      "\u001b[32m2024-04-14 19:45:50.933\u001b[0m | \u001b[34m\u001b[1mDEBUG   \u001b[0m | \u001b[36malchemlyb.preprocessing.subsampling\u001b[0m:\u001b[36mequilibrium_detection\u001b[0m:\u001b[36m611\u001b[0m - \u001b[34m\u001b[1mStatistical inefficiency: 1.48.\u001b[0m\n",
      "\u001b[32m2024-04-14 19:45:50.943\u001b[0m | \u001b[34m\u001b[1mDEBUG   \u001b[0m | \u001b[36malchemlyb.preprocessing.subsampling\u001b[0m:\u001b[36mequilibrium_detection\u001b[0m:\u001b[36m617\u001b[0m - \u001b[34m\u001b[1mNumber of uncorrelated samples: 1313.\u001b[0m\n",
      "\u001b[32m2024-04-14 19:45:50.952\u001b[0m | \u001b[34m\u001b[1mDEBUG   \u001b[0m | \u001b[36malchemlyb.preprocessing.subsampling\u001b[0m:\u001b[36mequilibrium_detection\u001b[0m:\u001b[36m608\u001b[0m - \u001b[34m\u001b[1mRunning equilibration detection.\u001b[0m\n",
      "\u001b[32m2024-04-14 19:45:51.215\u001b[0m | \u001b[34m\u001b[1mDEBUG   \u001b[0m | \u001b[36malchemlyb.preprocessing.subsampling\u001b[0m:\u001b[36mequilibrium_detection\u001b[0m:\u001b[36m610\u001b[0m - \u001b[34m\u001b[1mStart index: 0.\u001b[0m\n",
      "\u001b[32m2024-04-14 19:45:51.216\u001b[0m | \u001b[34m\u001b[1mDEBUG   \u001b[0m | \u001b[36malchemlyb.preprocessing.subsampling\u001b[0m:\u001b[36mequilibrium_detection\u001b[0m:\u001b[36m611\u001b[0m - \u001b[34m\u001b[1mStatistical inefficiency: 1.89.\u001b[0m\n",
      "\u001b[32m2024-04-14 19:45:51.227\u001b[0m | \u001b[34m\u001b[1mDEBUG   \u001b[0m | \u001b[36malchemlyb.preprocessing.subsampling\u001b[0m:\u001b[36mequilibrium_detection\u001b[0m:\u001b[36m617\u001b[0m - \u001b[34m\u001b[1mNumber of uncorrelated samples: 1325.\u001b[0m\n",
      "\u001b[32m2024-04-14 19:45:51.235\u001b[0m | \u001b[34m\u001b[1mDEBUG   \u001b[0m | \u001b[36malchemlyb.preprocessing.subsampling\u001b[0m:\u001b[36mequilibrium_detection\u001b[0m:\u001b[36m608\u001b[0m - \u001b[34m\u001b[1mRunning equilibration detection.\u001b[0m\n",
      "\u001b[32m2024-04-14 19:45:51.460\u001b[0m | \u001b[34m\u001b[1mDEBUG   \u001b[0m | \u001b[36malchemlyb.preprocessing.subsampling\u001b[0m:\u001b[36mequilibrium_detection\u001b[0m:\u001b[36m610\u001b[0m - \u001b[34m\u001b[1mStart index: 1.\u001b[0m\n",
      "\u001b[32m2024-04-14 19:45:51.461\u001b[0m | \u001b[34m\u001b[1mDEBUG   \u001b[0m | \u001b[36malchemlyb.preprocessing.subsampling\u001b[0m:\u001b[36mequilibrium_detection\u001b[0m:\u001b[36m611\u001b[0m - \u001b[34m\u001b[1mStatistical inefficiency: 2.62.\u001b[0m\n",
      "\u001b[32m2024-04-14 19:45:51.468\u001b[0m | \u001b[34m\u001b[1mDEBUG   \u001b[0m | \u001b[36malchemlyb.preprocessing.subsampling\u001b[0m:\u001b[36mequilibrium_detection\u001b[0m:\u001b[36m617\u001b[0m - \u001b[34m\u001b[1mNumber of uncorrelated samples: 954.\u001b[0m\n",
      "\u001b[32m2024-04-14 19:45:51.476\u001b[0m | \u001b[34m\u001b[1mDEBUG   \u001b[0m | \u001b[36malchemlyb.preprocessing.subsampling\u001b[0m:\u001b[36mequilibrium_detection\u001b[0m:\u001b[36m608\u001b[0m - \u001b[34m\u001b[1mRunning equilibration detection.\u001b[0m\n",
      "\u001b[32m2024-04-14 19:45:51.752\u001b[0m | \u001b[34m\u001b[1mDEBUG   \u001b[0m | \u001b[36malchemlyb.preprocessing.subsampling\u001b[0m:\u001b[36mequilibrium_detection\u001b[0m:\u001b[36m610\u001b[0m - \u001b[34m\u001b[1mStart index: 6.\u001b[0m\n",
      "\u001b[32m2024-04-14 19:45:51.753\u001b[0m | \u001b[34m\u001b[1mDEBUG   \u001b[0m | \u001b[36malchemlyb.preprocessing.subsampling\u001b[0m:\u001b[36mequilibrium_detection\u001b[0m:\u001b[36m611\u001b[0m - \u001b[34m\u001b[1mStatistical inefficiency: 4.78.\u001b[0m\n",
      "\u001b[32m2024-04-14 19:45:51.758\u001b[0m | \u001b[34m\u001b[1mDEBUG   \u001b[0m | \u001b[36malchemlyb.preprocessing.subsampling\u001b[0m:\u001b[36mequilibrium_detection\u001b[0m:\u001b[36m617\u001b[0m - \u001b[34m\u001b[1mNumber of uncorrelated samples: 522.\u001b[0m\n",
      "\u001b[32m2024-04-14 19:45:51.765\u001b[0m | \u001b[34m\u001b[1mDEBUG   \u001b[0m | \u001b[36malchemlyb.preprocessing.subsampling\u001b[0m:\u001b[36mequilibrium_detection\u001b[0m:\u001b[36m608\u001b[0m - \u001b[34m\u001b[1mRunning equilibration detection.\u001b[0m\n",
      "\u001b[32m2024-04-14 19:45:52.082\u001b[0m | \u001b[34m\u001b[1mDEBUG   \u001b[0m | \u001b[36malchemlyb.preprocessing.subsampling\u001b[0m:\u001b[36mequilibrium_detection\u001b[0m:\u001b[36m610\u001b[0m - \u001b[34m\u001b[1mStart index: 0.\u001b[0m\n",
      "\u001b[32m2024-04-14 19:45:52.083\u001b[0m | \u001b[34m\u001b[1mDEBUG   \u001b[0m | \u001b[36malchemlyb.preprocessing.subsampling\u001b[0m:\u001b[36mequilibrium_detection\u001b[0m:\u001b[36m611\u001b[0m - \u001b[34m\u001b[1mStatistical inefficiency: 7.34.\u001b[0m\n",
      "\u001b[32m2024-04-14 19:45:52.086\u001b[0m | \u001b[34m\u001b[1mDEBUG   \u001b[0m | \u001b[36malchemlyb.preprocessing.subsampling\u001b[0m:\u001b[36mequilibrium_detection\u001b[0m:\u001b[36m617\u001b[0m - \u001b[34m\u001b[1mNumber of uncorrelated samples: 341.\u001b[0m\n",
      "\u001b[32m2024-04-14 19:45:52.094\u001b[0m | \u001b[34m\u001b[1mDEBUG   \u001b[0m | \u001b[36malchemlyb.preprocessing.subsampling\u001b[0m:\u001b[36mequilibrium_detection\u001b[0m:\u001b[36m608\u001b[0m - \u001b[34m\u001b[1mRunning equilibration detection.\u001b[0m\n",
      "\u001b[32m2024-04-14 19:45:52.602\u001b[0m | \u001b[34m\u001b[1mDEBUG   \u001b[0m | \u001b[36malchemlyb.preprocessing.subsampling\u001b[0m:\u001b[36mequilibrium_detection\u001b[0m:\u001b[36m610\u001b[0m - \u001b[34m\u001b[1mStart index: 1824.\u001b[0m\n",
      "\u001b[32m2024-04-14 19:45:52.603\u001b[0m | \u001b[34m\u001b[1mDEBUG   \u001b[0m | \u001b[36malchemlyb.preprocessing.subsampling\u001b[0m:\u001b[36mequilibrium_detection\u001b[0m:\u001b[36m611\u001b[0m - \u001b[34m\u001b[1mStatistical inefficiency: 2.93.\u001b[0m\n",
      "\u001b[32m2024-04-14 19:45:52.605\u001b[0m | \u001b[34m\u001b[1mDEBUG   \u001b[0m | \u001b[36malchemlyb.preprocessing.subsampling\u001b[0m:\u001b[36mequilibrium_detection\u001b[0m:\u001b[36m617\u001b[0m - \u001b[34m\u001b[1mNumber of uncorrelated samples: 231.\u001b[0m\n",
      "\u001b[32m2024-04-14 19:45:52.613\u001b[0m | \u001b[34m\u001b[1mDEBUG   \u001b[0m | \u001b[36malchemlyb.preprocessing.subsampling\u001b[0m:\u001b[36mequilibrium_detection\u001b[0m:\u001b[36m608\u001b[0m - \u001b[34m\u001b[1mRunning equilibration detection.\u001b[0m\n",
      "\u001b[32m2024-04-14 19:45:52.876\u001b[0m | \u001b[34m\u001b[1mDEBUG   \u001b[0m | \u001b[36malchemlyb.preprocessing.subsampling\u001b[0m:\u001b[36mequilibrium_detection\u001b[0m:\u001b[36m610\u001b[0m - \u001b[34m\u001b[1mStart index: 1.\u001b[0m\n",
      "\u001b[32m2024-04-14 19:45:52.877\u001b[0m | \u001b[34m\u001b[1mDEBUG   \u001b[0m | \u001b[36malchemlyb.preprocessing.subsampling\u001b[0m:\u001b[36mequilibrium_detection\u001b[0m:\u001b[36m611\u001b[0m - \u001b[34m\u001b[1mStatistical inefficiency: 4.78.\u001b[0m\n",
      "\u001b[32m2024-04-14 19:45:52.882\u001b[0m | \u001b[34m\u001b[1mDEBUG   \u001b[0m | \u001b[36malchemlyb.preprocessing.subsampling\u001b[0m:\u001b[36mequilibrium_detection\u001b[0m:\u001b[36m617\u001b[0m - \u001b[34m\u001b[1mNumber of uncorrelated samples: 524.\u001b[0m\n",
      "\u001b[32m2024-04-14 19:45:52.890\u001b[0m | \u001b[34m\u001b[1mDEBUG   \u001b[0m | \u001b[36malchemlyb.preprocessing.subsampling\u001b[0m:\u001b[36mequilibrium_detection\u001b[0m:\u001b[36m608\u001b[0m - \u001b[34m\u001b[1mRunning equilibration detection.\u001b[0m\n",
      "\u001b[32m2024-04-14 19:45:53.404\u001b[0m | \u001b[34m\u001b[1mDEBUG   \u001b[0m | \u001b[36malchemlyb.preprocessing.subsampling\u001b[0m:\u001b[36mequilibrium_detection\u001b[0m:\u001b[36m610\u001b[0m - \u001b[34m\u001b[1mStart index: 2083.\u001b[0m\n",
      "\u001b[32m2024-04-14 19:45:53.405\u001b[0m | \u001b[34m\u001b[1mDEBUG   \u001b[0m | \u001b[36malchemlyb.preprocessing.subsampling\u001b[0m:\u001b[36mequilibrium_detection\u001b[0m:\u001b[36m611\u001b[0m - \u001b[34m\u001b[1mStatistical inefficiency: 3.25.\u001b[0m\n",
      "\u001b[32m2024-04-14 19:45:53.407\u001b[0m | \u001b[34m\u001b[1mDEBUG   \u001b[0m | \u001b[36malchemlyb.preprocessing.subsampling\u001b[0m:\u001b[36mequilibrium_detection\u001b[0m:\u001b[36m617\u001b[0m - \u001b[34m\u001b[1mNumber of uncorrelated samples: 129.\u001b[0m\n",
      "\u001b[32m2024-04-14 19:45:53.414\u001b[0m | \u001b[34m\u001b[1mDEBUG   \u001b[0m | \u001b[36malchemlyb.preprocessing.subsampling\u001b[0m:\u001b[36mequilibrium_detection\u001b[0m:\u001b[36m608\u001b[0m - \u001b[34m\u001b[1mRunning equilibration detection.\u001b[0m\n",
      "\u001b[32m2024-04-14 19:45:53.595\u001b[0m | \u001b[34m\u001b[1mDEBUG   \u001b[0m | \u001b[36malchemlyb.preprocessing.subsampling\u001b[0m:\u001b[36mequilibrium_detection\u001b[0m:\u001b[36m610\u001b[0m - \u001b[34m\u001b[1mStart index: 8.\u001b[0m\n",
      "\u001b[32m2024-04-14 19:45:53.595\u001b[0m | \u001b[34m\u001b[1mDEBUG   \u001b[0m | \u001b[36malchemlyb.preprocessing.subsampling\u001b[0m:\u001b[36mequilibrium_detection\u001b[0m:\u001b[36m611\u001b[0m - \u001b[34m\u001b[1mStatistical inefficiency: 1.69.\u001b[0m\n",
      "\u001b[32m2024-04-14 19:45:53.607\u001b[0m | \u001b[34m\u001b[1mDEBUG   \u001b[0m | \u001b[36malchemlyb.preprocessing.subsampling\u001b[0m:\u001b[36mequilibrium_detection\u001b[0m:\u001b[36m617\u001b[0m - \u001b[34m\u001b[1mNumber of uncorrelated samples: 1472.\u001b[0m\n",
      "\u001b[32m2024-04-14 19:45:53.615\u001b[0m | \u001b[34m\u001b[1mDEBUG   \u001b[0m | \u001b[36malchemlyb.preprocessing.subsampling\u001b[0m:\u001b[36mequilibrium_detection\u001b[0m:\u001b[36m608\u001b[0m - \u001b[34m\u001b[1mRunning equilibration detection.\u001b[0m\n",
      "\u001b[32m2024-04-14 19:45:53.875\u001b[0m | \u001b[34m\u001b[1mDEBUG   \u001b[0m | \u001b[36malchemlyb.preprocessing.subsampling\u001b[0m:\u001b[36mequilibrium_detection\u001b[0m:\u001b[36m610\u001b[0m - \u001b[34m\u001b[1mStart index: 0.\u001b[0m\n",
      "\u001b[32m2024-04-14 19:45:53.876\u001b[0m | \u001b[34m\u001b[1mDEBUG   \u001b[0m | \u001b[36malchemlyb.preprocessing.subsampling\u001b[0m:\u001b[36mequilibrium_detection\u001b[0m:\u001b[36m611\u001b[0m - \u001b[34m\u001b[1mStatistical inefficiency: 2.36.\u001b[0m\n",
      "\u001b[32m2024-04-14 19:45:53.884\u001b[0m | \u001b[34m\u001b[1mDEBUG   \u001b[0m | \u001b[36malchemlyb.preprocessing.subsampling\u001b[0m:\u001b[36mequilibrium_detection\u001b[0m:\u001b[36m617\u001b[0m - \u001b[34m\u001b[1mNumber of uncorrelated samples: 1058.\u001b[0m\n",
      "\u001b[32m2024-04-14 19:45:53.892\u001b[0m | \u001b[34m\u001b[1mDEBUG   \u001b[0m | \u001b[36malchemlyb.preprocessing.subsampling\u001b[0m:\u001b[36mequilibrium_detection\u001b[0m:\u001b[36m608\u001b[0m - \u001b[34m\u001b[1mRunning equilibration detection.\u001b[0m\n",
      "\u001b[32m2024-04-14 19:45:54.131\u001b[0m | \u001b[34m\u001b[1mDEBUG   \u001b[0m | \u001b[36malchemlyb.preprocessing.subsampling\u001b[0m:\u001b[36mequilibrium_detection\u001b[0m:\u001b[36m610\u001b[0m - \u001b[34m\u001b[1mStart index: 4.\u001b[0m\n",
      "\u001b[32m2024-04-14 19:45:54.131\u001b[0m | \u001b[34m\u001b[1mDEBUG   \u001b[0m | \u001b[36malchemlyb.preprocessing.subsampling\u001b[0m:\u001b[36mequilibrium_detection\u001b[0m:\u001b[36m611\u001b[0m - \u001b[34m\u001b[1mStatistical inefficiency: 2.66.\u001b[0m\n",
      "\u001b[32m2024-04-14 19:45:54.139\u001b[0m | \u001b[34m\u001b[1mDEBUG   \u001b[0m | \u001b[36malchemlyb.preprocessing.subsampling\u001b[0m:\u001b[36mequilibrium_detection\u001b[0m:\u001b[36m617\u001b[0m - \u001b[34m\u001b[1mNumber of uncorrelated samples: 938.\u001b[0m\n",
      "\u001b[32m2024-04-14 19:45:54.147\u001b[0m | \u001b[34m\u001b[1mDEBUG   \u001b[0m | \u001b[36malchemlyb.preprocessing.subsampling\u001b[0m:\u001b[36mequilibrium_detection\u001b[0m:\u001b[36m608\u001b[0m - \u001b[34m\u001b[1mRunning equilibration detection.\u001b[0m\n",
      "\u001b[32m2024-04-14 19:45:54.422\u001b[0m | \u001b[34m\u001b[1mDEBUG   \u001b[0m | \u001b[36malchemlyb.preprocessing.subsampling\u001b[0m:\u001b[36mequilibrium_detection\u001b[0m:\u001b[36m610\u001b[0m - \u001b[34m\u001b[1mStart index: 354.\u001b[0m\n",
      "\u001b[32m2024-04-14 19:45:54.423\u001b[0m | \u001b[34m\u001b[1mDEBUG   \u001b[0m | \u001b[36malchemlyb.preprocessing.subsampling\u001b[0m:\u001b[36mequilibrium_detection\u001b[0m:\u001b[36m611\u001b[0m - \u001b[34m\u001b[1mStatistical inefficiency: 2.35.\u001b[0m\n",
      "\u001b[32m2024-04-14 19:45:54.430\u001b[0m | \u001b[34m\u001b[1mDEBUG   \u001b[0m | \u001b[36malchemlyb.preprocessing.subsampling\u001b[0m:\u001b[36mequilibrium_detection\u001b[0m:\u001b[36m617\u001b[0m - \u001b[34m\u001b[1mNumber of uncorrelated samples: 914.\u001b[0m\n",
      "\u001b[32m2024-04-14 19:45:54.438\u001b[0m | \u001b[34m\u001b[1mDEBUG   \u001b[0m | \u001b[36malchemlyb.preprocessing.subsampling\u001b[0m:\u001b[36mequilibrium_detection\u001b[0m:\u001b[36m608\u001b[0m - \u001b[34m\u001b[1mRunning equilibration detection.\u001b[0m\n",
      "\u001b[32m2024-04-14 19:45:54.720\u001b[0m | \u001b[34m\u001b[1mDEBUG   \u001b[0m | \u001b[36malchemlyb.preprocessing.subsampling\u001b[0m:\u001b[36mequilibrium_detection\u001b[0m:\u001b[36m610\u001b[0m - \u001b[34m\u001b[1mStart index: 2.\u001b[0m\n",
      "\u001b[32m2024-04-14 19:45:54.721\u001b[0m | \u001b[34m\u001b[1mDEBUG   \u001b[0m | \u001b[36malchemlyb.preprocessing.subsampling\u001b[0m:\u001b[36mequilibrium_detection\u001b[0m:\u001b[36m611\u001b[0m - \u001b[34m\u001b[1mStatistical inefficiency: 2.87.\u001b[0m\n",
      "\u001b[32m2024-04-14 19:45:54.728\u001b[0m | \u001b[34m\u001b[1mDEBUG   \u001b[0m | \u001b[36malchemlyb.preprocessing.subsampling\u001b[0m:\u001b[36mequilibrium_detection\u001b[0m:\u001b[36m617\u001b[0m - \u001b[34m\u001b[1mNumber of uncorrelated samples: 872.\u001b[0m\n",
      "\u001b[32m2024-04-14 19:45:54.736\u001b[0m | \u001b[34m\u001b[1mDEBUG   \u001b[0m | \u001b[36malchemlyb.preprocessing.subsampling\u001b[0m:\u001b[36mequilibrium_detection\u001b[0m:\u001b[36m608\u001b[0m - \u001b[34m\u001b[1mRunning equilibration detection.\u001b[0m\n",
      "\u001b[32m2024-04-14 19:45:54.914\u001b[0m | \u001b[34m\u001b[1mDEBUG   \u001b[0m | \u001b[36malchemlyb.preprocessing.subsampling\u001b[0m:\u001b[36mequilibrium_detection\u001b[0m:\u001b[36m610\u001b[0m - \u001b[34m\u001b[1mStart index: 0.\u001b[0m\n",
      "\u001b[32m2024-04-14 19:45:54.915\u001b[0m | \u001b[34m\u001b[1mDEBUG   \u001b[0m | \u001b[36malchemlyb.preprocessing.subsampling\u001b[0m:\u001b[36mequilibrium_detection\u001b[0m:\u001b[36m611\u001b[0m - \u001b[34m\u001b[1mStatistical inefficiency: 1.53.\u001b[0m\n",
      "\u001b[32m2024-04-14 19:45:54.928\u001b[0m | \u001b[34m\u001b[1mDEBUG   \u001b[0m | \u001b[36malchemlyb.preprocessing.subsampling\u001b[0m:\u001b[36mequilibrium_detection\u001b[0m:\u001b[36m617\u001b[0m - \u001b[34m\u001b[1mNumber of uncorrelated samples: 1629.\u001b[0m\n",
      "\u001b[32m2024-04-14 19:45:54.936\u001b[0m | \u001b[34m\u001b[1mDEBUG   \u001b[0m | \u001b[36malchemlyb.preprocessing.subsampling\u001b[0m:\u001b[36mequilibrium_detection\u001b[0m:\u001b[36m608\u001b[0m - \u001b[34m\u001b[1mRunning equilibration detection.\u001b[0m\n",
      "\u001b[32m2024-04-14 19:45:55.093\u001b[0m | \u001b[34m\u001b[1mDEBUG   \u001b[0m | \u001b[36malchemlyb.preprocessing.subsampling\u001b[0m:\u001b[36mequilibrium_detection\u001b[0m:\u001b[36m610\u001b[0m - \u001b[34m\u001b[1mStart index: 0.\u001b[0m\n",
      "\u001b[32m2024-04-14 19:45:55.094\u001b[0m | \u001b[34m\u001b[1mDEBUG   \u001b[0m | \u001b[36malchemlyb.preprocessing.subsampling\u001b[0m:\u001b[36mequilibrium_detection\u001b[0m:\u001b[36m611\u001b[0m - \u001b[34m\u001b[1mStatistical inefficiency: 1.39.\u001b[0m\n",
      "\u001b[32m2024-04-14 19:45:55.108\u001b[0m | \u001b[34m\u001b[1mDEBUG   \u001b[0m | \u001b[36malchemlyb.preprocessing.subsampling\u001b[0m:\u001b[36mequilibrium_detection\u001b[0m:\u001b[36m617\u001b[0m - \u001b[34m\u001b[1mNumber of uncorrelated samples: 1801.\u001b[0m\n",
      "\u001b[32m2024-04-14 19:45:55.117\u001b[0m | \u001b[34m\u001b[1mDEBUG   \u001b[0m | \u001b[36malchemlyb.preprocessing.subsampling\u001b[0m:\u001b[36mequilibrium_detection\u001b[0m:\u001b[36m608\u001b[0m - \u001b[34m\u001b[1mRunning equilibration detection.\u001b[0m\n",
      "\u001b[32m2024-04-14 19:45:55.382\u001b[0m | \u001b[34m\u001b[1mDEBUG   \u001b[0m | \u001b[36malchemlyb.preprocessing.subsampling\u001b[0m:\u001b[36mequilibrium_detection\u001b[0m:\u001b[36m610\u001b[0m - \u001b[34m\u001b[1mStart index: 185.\u001b[0m\n",
      "\u001b[32m2024-04-14 19:45:55.382\u001b[0m | \u001b[34m\u001b[1mDEBUG   \u001b[0m | \u001b[36malchemlyb.preprocessing.subsampling\u001b[0m:\u001b[36mequilibrium_detection\u001b[0m:\u001b[36m611\u001b[0m - \u001b[34m\u001b[1mStatistical inefficiency: 1.95.\u001b[0m\n",
      "\u001b[32m2024-04-14 19:45:55.392\u001b[0m | \u001b[34m\u001b[1mDEBUG   \u001b[0m | \u001b[36malchemlyb.preprocessing.subsampling\u001b[0m:\u001b[36mequilibrium_detection\u001b[0m:\u001b[36m617\u001b[0m - \u001b[34m\u001b[1mNumber of uncorrelated samples: 1186.\u001b[0m\n",
      "\u001b[32m2024-04-14 19:45:55.400\u001b[0m | \u001b[34m\u001b[1mDEBUG   \u001b[0m | \u001b[36malchemlyb.preprocessing.subsampling\u001b[0m:\u001b[36mequilibrium_detection\u001b[0m:\u001b[36m608\u001b[0m - \u001b[34m\u001b[1mRunning equilibration detection.\u001b[0m\n",
      "\u001b[32m2024-04-14 19:45:55.585\u001b[0m | \u001b[34m\u001b[1mDEBUG   \u001b[0m | \u001b[36malchemlyb.preprocessing.subsampling\u001b[0m:\u001b[36mequilibrium_detection\u001b[0m:\u001b[36m610\u001b[0m - \u001b[34m\u001b[1mStart index: 0.\u001b[0m\n",
      "\u001b[32m2024-04-14 19:45:55.586\u001b[0m | \u001b[34m\u001b[1mDEBUG   \u001b[0m | \u001b[36malchemlyb.preprocessing.subsampling\u001b[0m:\u001b[36mequilibrium_detection\u001b[0m:\u001b[36m611\u001b[0m - \u001b[34m\u001b[1mStatistical inefficiency: 2.23.\u001b[0m\n",
      "\u001b[32m2024-04-14 19:45:55.595\u001b[0m | \u001b[34m\u001b[1mDEBUG   \u001b[0m | \u001b[36malchemlyb.preprocessing.subsampling\u001b[0m:\u001b[36mequilibrium_detection\u001b[0m:\u001b[36m617\u001b[0m - \u001b[34m\u001b[1mNumber of uncorrelated samples: 1121.\u001b[0m\n",
      "\u001b[32m2024-04-14 19:45:55.603\u001b[0m | \u001b[34m\u001b[1mDEBUG   \u001b[0m | \u001b[36malchemlyb.preprocessing.subsampling\u001b[0m:\u001b[36mequilibrium_detection\u001b[0m:\u001b[36m608\u001b[0m - \u001b[34m\u001b[1mRunning equilibration detection.\u001b[0m\n",
      "\u001b[32m2024-04-14 19:45:55.794\u001b[0m | \u001b[34m\u001b[1mDEBUG   \u001b[0m | \u001b[36malchemlyb.preprocessing.subsampling\u001b[0m:\u001b[36mequilibrium_detection\u001b[0m:\u001b[36m610\u001b[0m - \u001b[34m\u001b[1mStart index: 0.\u001b[0m\n",
      "\u001b[32m2024-04-14 19:45:55.795\u001b[0m | \u001b[34m\u001b[1mDEBUG   \u001b[0m | \u001b[36malchemlyb.preprocessing.subsampling\u001b[0m:\u001b[36mequilibrium_detection\u001b[0m:\u001b[36m611\u001b[0m - \u001b[34m\u001b[1mStatistical inefficiency: 1.78.\u001b[0m\n",
      "\u001b[32m2024-04-14 19:45:55.806\u001b[0m | \u001b[34m\u001b[1mDEBUG   \u001b[0m | \u001b[36malchemlyb.preprocessing.subsampling\u001b[0m:\u001b[36mequilibrium_detection\u001b[0m:\u001b[36m617\u001b[0m - \u001b[34m\u001b[1mNumber of uncorrelated samples: 1403.\u001b[0m\n",
      "\u001b[32m2024-04-14 19:45:55.816\u001b[0m | \u001b[34m\u001b[1mDEBUG   \u001b[0m | \u001b[36malchemlyb.preprocessing.subsampling\u001b[0m:\u001b[36mequilibrium_detection\u001b[0m:\u001b[36m608\u001b[0m - \u001b[34m\u001b[1mRunning equilibration detection.\u001b[0m\n",
      "\u001b[32m2024-04-14 19:45:56.586\u001b[0m | \u001b[34m\u001b[1mDEBUG   \u001b[0m | \u001b[36malchemlyb.preprocessing.subsampling\u001b[0m:\u001b[36mequilibrium_detection\u001b[0m:\u001b[36m610\u001b[0m - \u001b[34m\u001b[1mStart index: 11.\u001b[0m\n",
      "\u001b[32m2024-04-14 19:45:56.587\u001b[0m | \u001b[34m\u001b[1mDEBUG   \u001b[0m | \u001b[36malchemlyb.preprocessing.subsampling\u001b[0m:\u001b[36mequilibrium_detection\u001b[0m:\u001b[36m611\u001b[0m - \u001b[34m\u001b[1mStatistical inefficiency: 6.03.\u001b[0m\n",
      "\u001b[32m2024-04-14 19:45:56.594\u001b[0m | \u001b[34m\u001b[1mDEBUG   \u001b[0m | \u001b[36malchemlyb.preprocessing.subsampling\u001b[0m:\u001b[36mequilibrium_detection\u001b[0m:\u001b[36m617\u001b[0m - \u001b[34m\u001b[1mNumber of uncorrelated samples: 827.\u001b[0m\n"
     ]
    },
    {
     "data": {
      "text/markdown": [
       "<font size=5>ΔG<sub>site</sub> = 14.5 kcal/mol</font><br/><font size=5>PyMBAR estimated error: 0.0 kcal/mol</font><br/>"
      ],
      "text/plain": [
       "<IPython.core.display.Markdown object>"
      ]
     },
     "execution_count": 6,
     "metadata": {},
     "output_type": "execute_result"
    }
   ],
   "source": [
    "filepattern='*.fepout' #This can be a regex pattern if you have more than one fepout file\n",
    "#Caution: if you have multiple fepout files, name them alphanumerically\n",
    "\n",
    "site = FEPData(bound_fep_path, filepattern, temperature, detectEQ, \"site\")\n",
    "site.process()\n",
    "Markdown(site.pretty_print_dG())"
   ]
  },
  {
   "cell_type": "code",
   "execution_count": 7,
   "id": "378251ed",
   "metadata": {},
   "outputs": [
    {
     "ename": "NameError",
     "evalue": "name 'cumulative_site' is not defined",
     "output_type": "error",
     "traceback": [
      "\u001b[0;31m---------------------------------------------------------------------------\u001b[0m",
      "\u001b[0;31mNameError\u001b[0m                                 Traceback (most recent call last)",
      "Cell \u001b[0;32mIn[7], line 9\u001b[0m\n\u001b[1;32m      6\u001b[0m cumulative_ylim \u001b[38;5;241m=\u001b[39m (\u001b[38;5;241m0\u001b[39m,\u001b[38;5;241m16\u001b[39m) \n\u001b[1;32m      7\u001b[0m perwindow_ylim \u001b[38;5;241m=\u001b[39m (\u001b[38;5;241m0\u001b[39m,\u001b[38;5;241m1.25\u001b[39m)\n\u001b[1;32m      8\u001b[0m fig, axes \u001b[38;5;241m=\u001b[39m safep\u001b[38;5;241m.\u001b[39mplot_general(\n\u001b[0;32m----> 9\u001b[0m     \u001b[43mcumulative_site\u001b[49m,\n\u001b[1;32m     10\u001b[0m     cumulative_ylim, \n\u001b[1;32m     11\u001b[0m     perWindow_site, \n\u001b[1;32m     12\u001b[0m     perwindow_ylim, \n\u001b[1;32m     13\u001b[0m     RT, \n\u001b[1;32m     14\u001b[0m     width\u001b[38;5;241m=\u001b[39mwidth, \n\u001b[1;32m     15\u001b[0m     height\u001b[38;5;241m=\u001b[39mheight, \n\u001b[1;32m     16\u001b[0m     PDFtype\u001b[38;5;241m=\u001b[39m\u001b[38;5;124m'\u001b[39m\u001b[38;5;124mKDE\u001b[39m\u001b[38;5;124m'\u001b[39m, \n\u001b[1;32m     17\u001b[0m     fontsize\u001b[38;5;241m=\u001b[39m\u001b[38;5;241m20\u001b[39m)\n\u001b[1;32m     18\u001b[0m plt\u001b[38;5;241m.\u001b[39msavefig(\u001b[38;5;124mf\u001b[39m\u001b[38;5;124m'\u001b[39m\u001b[38;5;132;01m{\u001b[39;00mbound_fep_path\u001b[38;5;132;01m}\u001b[39;00m\u001b[38;5;124m/bound_generalFigures.pdf\u001b[39m\u001b[38;5;124m'\u001b[39m)\n\u001b[1;32m     19\u001b[0m plt\u001b[38;5;241m.\u001b[39mshow()\n",
      "\u001b[0;31mNameError\u001b[0m: name 'cumulative_site' is not defined"
     ]
    }
   ],
   "source": [
    "#Make some general plots\n",
    "width = 8\n",
    "height = 4\n",
    "\n",
    "#Manually set the extent of the y axes\n",
    "cumulative_ylim = (0,16) \n",
    "perwindow_ylim = (0,1.25)\n",
    "fig, axes = safep.plot_general(\n",
    "    cumulative_site,\n",
    "    cumulative_ylim, \n",
    "    perWindow_site, \n",
    "    perwindow_ylim, \n",
    "    RT, \n",
    "    width=width, \n",
    "    height=height, \n",
    "    PDFtype='KDE', \n",
    "    fontsize=20)\n",
    "plt.savefig(f'{bound_fep_path}/bound_generalFigures.pdf')\n",
    "plt.show()\n",
    "\n",
    "fig, convAx = plt.subplots(1,1)\n",
    "convAx = safep.convergence_plot(convAx, forward_site*RT, forward_error_site*RT, backward_site*RT, backward_error_site*RT, fontsize=20)\n",
    "\n",
    "fig.set_figwidth(width*3/4)\n",
    "fig.set_figheight(height)\n",
    "\n",
    "plt.savefig(f'{bound_fep_path}/bound_convergence.pdf')\n",
    "plt.show()"
   ]
  },
  {
   "cell_type": "code",
   "execution_count": null,
   "id": "2798d776",
   "metadata": {},
   "outputs": [],
   "source": [
    "assert False, \"STOP HERE\""
   ]
  },
  {
   "cell_type": "markdown",
   "id": "246f7ce7",
   "metadata": {
    "tags": []
   },
   "source": [
    "***\n",
    "<a id='DBC_TI'></a>\n",
    "# Process the DBC TI calculation\n",
    "Compute the free energy cost of restraining the DBC coordinate (**Step C**)\n",
    "\n",
    "Note: The error estimate below is just the standard deviation of the samples. <br>\n",
    "The BAR errors calculated above are standard errors of the mean."
   ]
  },
  {
   "cell_type": "code",
   "execution_count": null,
   "id": "c0ccafa4",
   "metadata": {},
   "outputs": [],
   "source": [
    "# Setup and processing of colvars data\n",
    "colvarsPath = glob(restraint_perturbation_path+'*.colvars.traj')[0]\n",
    "with open(colvarsPath) as f:\n",
    "    first_line = f.readline()\n",
    "columns = re.split(' +', first_line)[1:-1]\n",
    "dataTI = pd.read_csv(colvarsPath, delim_whitespace=True, names=columns, comment='#', index_col=0)\n",
    "dataTI = dataTI[dataTI.index>=1000][1:]\n",
    "dataTI.index = dataTI.index-1000\n",
    "\n",
    "nLambdas = 41\n",
    "Lsched = np.linspace(1,0,nLambdas)\n",
    "\n",
    "Dist = safep.make_harmonicWall(FC=200, upperWalls=COMradius, name='Dist_rest')\n",
    "DBC = safep.make_harmonicWall(FC=0, targetFC=200, targetFE=6, upperWalls=DBCwidth, targetEQ=500, numSteps=300000, name='DBC_rest', schedule=Lsched)\n",
    "Ls = (dataTI.index.values-1)//DBC['numSteps']\n",
    "Ls[0] = 0\n",
    "Ls[Ls==41] = 40 # This is a small hack in case there are extra samples for the last windowj\n",
    "\n",
    "dataLs = np.round([DBC['schedule'][i] for i in Ls], 3)\n",
    "dataTI.loc[:,'L'] = dataLs\n",
    "dataTI = dataTI.iloc[1:]\n",
    "\n",
    "TIperWindow, TIcumulative = safep.process_TI(dataTI, DBC, Lsched)"
   ]
  },
  {
   "cell_type": "code",
   "execution_count": null,
   "id": "fc261d8e",
   "metadata": {},
   "outputs": [],
   "source": [
    "dG_DBC = np.round(TIcumulative['dG'][1], 1)\n",
    "error_DBC = np.round(TIcumulative['error'][1], 1)\n",
    "change_mkd_TI = f'\\u0394G<sub>DBC</sub> = {dG_DBC} kcal/mol'\n",
    "error_mkd_TI = f'Standard Deviation: {error_DBC} kcal/mol'\n",
    "Markdown('<font size=5>{}</font><br/><font size=5>{}</font><br/>'.format(change_mkd_TI, error_mkd_TI))"
   ]
  },
  {
   "cell_type": "code",
   "execution_count": null,
   "id": "b6e840ce",
   "metadata": {},
   "outputs": [],
   "source": [
    "''' Plot the results. '''\n",
    "fig, axes = safep.plot_TI(TIcumulative, TIperWindow, fontsize=20)\n",
    "plt.savefig(f'{restraint_perturbation_path}/TI_general.pdf')\n",
    "plt.show()"
   ]
  },
  {
   "cell_type": "markdown",
   "id": "1874308d",
   "metadata": {
    "tags": []
   },
   "source": [
    "***\n",
    "<a id='unbound_fep'></a>\n",
    "# Process the Bulk FEP Data\n",
    "Ligand decoupling from solvent (**Step D**)"
   ]
  },
  {
   "cell_type": "code",
   "execution_count": null,
   "id": "cac3c31c",
   "metadata": {},
   "outputs": [],
   "source": [
    "filename='*.fepout' #This can be a regex pattern if you have more than one fepout file\n",
    "fepoutFiles_bulk = glob(bulk_fep_path+filename) #Resolve any naming regular expressions\n",
    "u_nk_bulk = safep.read_and_process(fepoutFiles_bulk, temperature, decorrelate=False, detectEQ=detectEQ) #u_nk stores the fep data\n",
    "perWindow_bulk, cumulative_bulk = safep.do_estimation(u_nk_bulk) #Run the BAR estimator on the fep data\n",
    "forward_bulk, forward_error_bulk, backward_bulk, backward_error_bulk = safep.do_convergence(u_nk_bulk) #Used later in the convergence plot\n",
    "\n",
    "dG_bulk = np.round(cumulative_bulk.BAR.f.iloc[-1]*RT, 1)\n",
    "error_bulk = np.round(cumulative_bulk.BAR.errors.iloc[-1]*RT, 1)\n",
    "change_mkd_bulk = f'\\u0394G<sub>bulk</sub> = {dG_bulk} kcal/mol'\n",
    "error_mkd_bulk = f'PyMBAR estimated error: {error_bulk} kcal/mol'\n",
    "Markdown('<font size=5>{}</font><br/><font size=5>{}</font><br/>'.format(change_mkd_bulk, error_mkd_bulk))"
   ]
  },
  {
   "cell_type": "code",
   "execution_count": null,
   "id": "77d27441",
   "metadata": {},
   "outputs": [],
   "source": [
    "width = 8\n",
    "height = 4\n",
    "\n",
    "#Manually set the extent of the y axes\n",
    "cumulative_ylim = (0,8) \n",
    "perwindow_ylim = (-0.5,1.)\n",
    "fig, axes = safep.plot_general(\n",
    "    cumulative_bulk,\n",
    "    cumulative_ylim, \n",
    "    perWindow_bulk, \n",
    "    perwindow_ylim, \n",
    "    RT, \n",
    "    width=width, \n",
    "    height=height, \n",
    "    PDFtype='KDE', \n",
    "    fontsize=20)\n",
    "plt.savefig(f'{bulk_fep_path}bulk_generalFigures.pdf')\n",
    "plt.show()\n",
    "\n",
    "fig, convAx = plt.subplots(1,1)\n",
    "convAx = safep.convergence_plot(convAx, forward_bulk*RT, forward_error_bulk*RT, backward_bulk*RT, backward_error_bulk*RT, fontsize=20)\n",
    "convAx.set(xlabel='Fraction of Simulation Time', ylabel=r'Total $\\rm\\Delta G_{\\lambda}$ (kcal/mol)')\n",
    "fig.set_figwidth(width*3/4)\n",
    "fig.set_figheight(height)\n",
    "convAx.legend()\n",
    "plt.savefig(f'{bulk_fep_path}bulk_convergence.pdf')\n",
    "plt.show()"
   ]
  },
  {
   "cell_type": "markdown",
   "id": "ebc581fd",
   "metadata": {
    "tags": []
   },
   "source": [
    "***\n",
    "<a id='volume'></a>\n",
    "# Calculate the Volumetric Restraint Contribution\n",
    "**Step E.2**\n"
   ]
  },
  {
   "cell_type": "code",
   "execution_count": null,
   "id": "a817d388",
   "metadata": {},
   "outputs": [],
   "source": [
    "molar = 1660 #cubic angstroms per particle in a one molar solution\n",
    "dG_V = np.round(-RT*np.log(4/3*sp.pi*COMradius**3/molar), 1)\n",
    "error_V = 0"
   ]
  },
  {
   "cell_type": "code",
   "execution_count": null,
   "id": "0824694c",
   "metadata": {},
   "outputs": [],
   "source": [
    "change_mkd_vol = f'\\u0394G<sub>V</sub> = {np.round(dG_V, 1)} kcal/mol'\n",
    "Markdown('<font size=5>{}</font><br/>'.format(change_mkd_vol))"
   ]
  },
  {
   "cell_type": "markdown",
   "id": "7a4f504c",
   "metadata": {
    "tags": []
   },
   "source": [
    "***\n",
    "<a id='total'></a>\n",
    "# Calculate the Binding Free Energy\n",
    "**Step E.3 to End**"
   ]
  },
  {
   "cell_type": "code",
   "execution_count": null,
   "id": "f11b5f8b",
   "metadata": {},
   "outputs": [],
   "source": [
    "dG_binding = dG_bulk + dG_V + dG_DBC - dG_site\n",
    "error_binding = np.sqrt(np.sum(np.array([error_bulk, error_V, error_site, error_DBC])**2))"
   ]
  },
  {
   "cell_type": "code",
   "execution_count": null,
   "id": "4c26a178",
   "metadata": {},
   "outputs": [],
   "source": [
    "changeAndError = f'\\u0394G<sub>bind</sub> = {np.round(dG_binding, 1)}\\u00B1{np.round(error_binding, 1)} kcal/mol'\n",
    "Markdown('<font size=5>{}</font><br/>'.format(changeAndError))"
   ]
  },
  {
   "cell_type": "markdown",
   "id": "43bfde28",
   "metadata": {},
   "source": [
    "# Estimate the titration curve"
   ]
  },
  {
   "cell_type": "code",
   "execution_count": null,
   "id": "5946cce2",
   "metadata": {},
   "outputs": [],
   "source": [
    "def P_bind(K, L):\n",
    "    return L/(K+L)\n",
    "\n",
    "def Kd(dG, RT):\n",
    "    return np.exp(dG/RT)*1000000"
   ]
  },
  {
   "cell_type": "code",
   "execution_count": null,
   "id": "2b57881c",
   "metadata": {},
   "outputs": [],
   "source": [
    "concentrations = np.logspace(0,5,1000) # A vector of concentrations in micromolar\n",
    "K = Kd(dG_binding, RT)\n",
    "\n",
    "mpl.rc('xtick', labelsize=16)\n",
    "mpl.rc('ytick', labelsize=16)\n",
    "fig, ax = plt.subplots(figsize=(10,6.1))\n",
    "ax.plot(concentrations, P_bind(K, concentrations), label='Binding Curve')\n",
    "ax.fill_between(concentrations, P_bind(Kd(dG_binding-error_binding*1.96, RT), concentrations), P_bind(Kd(dG_binding+error_binding*1.96, RT), concentrations), alpha=0.25, label='95% Confidence Interval')\n",
    "plt.xscale('log')\n",
    "ax.set_xlabel('Concentration of Phenol '+r'($\\mathrm{\\mu}$M)', fontsize=20)\n",
    "ax.set_ylabel('Fraction of Sites Occupied', fontsize=20)\n",
    "ax.vlines(K, 0, 1, linestyles='dashed', color='black', label='Dissociation Constant')\n",
    "ax.legend(loc='lower right', fontsize=20*0.75)\n",
    "\n",
    "plt.savefig(f'./titration_curve.pdf')\n",
    "plt.show()"
   ]
  },
  {
   "cell_type": "code",
   "execution_count": null,
   "id": "9830ce57-33fb-48fa-af56-1f228fdb2c6a",
   "metadata": {},
   "outputs": [],
   "source": []
  },
  {
   "cell_type": "code",
   "execution_count": null,
   "id": "4fb8f86f-4f20-4511-98ca-bef81bbf97fe",
   "metadata": {},
   "outputs": [],
   "source": []
  }
 ],
 "metadata": {
  "kernelspec": {
   "display_name": "Python 3 (ipykernel)",
   "language": "python",
   "name": "python3"
  },
  "language_info": {
   "codemirror_mode": {
    "name": "ipython",
    "version": 3
   },
   "file_extension": ".py",
   "mimetype": "text/x-python",
   "name": "python",
   "nbconvert_exporter": "python",
   "pygments_lexer": "ipython3",
   "version": "3.10.14"
  }
 },
 "nbformat": 4,
 "nbformat_minor": 5
}
